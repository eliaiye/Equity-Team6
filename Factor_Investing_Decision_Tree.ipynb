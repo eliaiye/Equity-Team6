{
 "cells": [
  {
   "cell_type": "code",
   "execution_count": 1,
   "metadata": {},
   "outputs": [],
   "source": [
    "import pandas as pd\n",
    "import numpy as np\n",
    "import math\n",
    "%matplotlib notebook\n",
    "import matplotlib.pyplot as plt\n",
    "import seaborn as sns\n"
   ]
  },
  {
   "cell_type": "code",
   "execution_count": 2,
   "metadata": {},
   "outputs": [],
   "source": [
    "\n",
    "import statsmodels.api as sm\n",
    "from statsmodels.api import OLS\n",
    "\n",
    "from sklearn.decomposition import PCA\n",
    "from sklearn.linear_model import LogisticRegression\n",
    "from sklearn.linear_model import LogisticRegressionCV\n",
    "from sklearn.discriminant_analysis import LinearDiscriminantAnalysis\n",
    "from sklearn.discriminant_analysis import QuadraticDiscriminantAnalysis\n",
    "from sklearn.preprocessing import PolynomialFeatures\n",
    "from sklearn.neighbors import KNeighborsClassifier\n",
    "from sklearn.model_selection import cross_val_score\n",
    "from sklearn.metrics import accuracy_score\n",
    "from sklearn.model_selection import KFold\n",
    "from sklearn.preprocessing import MinMaxScaler\n",
    "from sklearn.metrics import accuracy_score"
   ]
  },
  {
   "cell_type": "code",
   "execution_count": 3,
   "metadata": {},
   "outputs": [],
   "source": [
    "from sklearn.linear_model import LogisticRegressionCV\n",
    "from sklearn.model_selection import train_test_split\n",
    "from sklearn.model_selection import cross_val_score\n",
    "from sklearn.utils import resample\n",
    "from sklearn.tree import DecisionTreeClassifier\n",
    "from sklearn.ensemble import RandomForestClassifier\n",
    "from sklearn.ensemble import RandomForestRegressor\n",
    "from sklearn.ensemble import AdaBoostClassifier\n",
    "from sklearn.metrics import accuracy_score\n",
    "from sklearn.preprocessing import StandardScaler\n",
    "from sklearn.pipeline import make_pipeline\n",
    "\n",
    "from sklearn.preprocessing import FunctionTransformer \n",
    "#from imblearn.over_sampling import SMOTE\n",
    "#from imblearn.over_sampling import RandomOverSampler\n",
    "#from imblearn.under_sampling import RandomUnderSampler\n",
    "from sklearn.feature_selection import SelectFromModel\n",
    "\n",
    "from sklearn.model_selection import cross_val_predict \n",
    "from sklearn.model_selection import GridSearchCV\n",
    "from sklearn.model_selection import StratifiedKFold\n",
    "\n",
    "from sklearn.metrics import log_loss\n",
    "from sklearn.metrics import roc_curve\n",
    "from sklearn.metrics import auc\n",
    "from sklearn.metrics import confusion_matrix\n",
    "from sklearn.metrics import roc_auc_score\n",
    "from sklearn.metrics import precision_recall_curve\n",
    "from sklearn.metrics import classification_report\n",
    "\n",
    "from sklearn.svm import SVC \n",
    "from xgboost.sklearn import XGBClassifier \n",
    "import itertools\n",
    "from sklearn.neighbors import KNeighborsClassifier\n",
    "\n",
    "from sklearn.feature_extraction.text import TfidfVectorizer\n",
    "#from nltk.corpus import stopwords\n",
    "#from textblob import Word\n",
    "from sklearn.ensemble import VotingClassifier \n",
    "\n",
    "from sklearn.neural_network import MLPClassifier\n",
    "from sklearn.naive_bayes import MultinomialNB\n",
    "import matplotlib.pyplot as plt\n",
    "%matplotlib inline"
   ]
  },
  {
   "cell_type": "markdown",
   "metadata": {},
   "source": [
    "## Machine Learning\n"
   ]
  },
  {
   "cell_type": "code",
   "execution_count": 4,
   "metadata": {},
   "outputs": [
    {
     "data": {
      "text/html": [
       "<div>\n",
       "<style scoped>\n",
       "    .dataframe tbody tr th:only-of-type {\n",
       "        vertical-align: middle;\n",
       "    }\n",
       "\n",
       "    .dataframe tbody tr th {\n",
       "        vertical-align: top;\n",
       "    }\n",
       "\n",
       "    .dataframe thead th {\n",
       "        text-align: right;\n",
       "    }\n",
       "</style>\n",
       "<table border=\"1\" class=\"dataframe\">\n",
       "  <thead>\n",
       "    <tr style=\"text-align: right;\">\n",
       "      <th></th>\n",
       "      <th></th>\n",
       "      <th>Industrials</th>\n",
       "      <th>Health Care</th>\n",
       "      <th>Information Technology</th>\n",
       "      <th>Communication Services</th>\n",
       "      <th>Consumer Discretionary</th>\n",
       "      <th>Utilities</th>\n",
       "      <th>Financials</th>\n",
       "      <th>Materials</th>\n",
       "      <th>Real Estate</th>\n",
       "      <th>Consumer Staples</th>\n",
       "      <th>...</th>\n",
       "      <th>Net Margin</th>\n",
       "      <th>Total Asset turnover</th>\n",
       "      <th>Return on Equity</th>\n",
       "      <th>DCF Prem</th>\n",
       "      <th>PE Prem</th>\n",
       "      <th>Growth</th>\n",
       "      <th>Price</th>\n",
       "      <th>PE</th>\n",
       "      <th>PB</th>\n",
       "      <th>Return</th>\n",
       "    </tr>\n",
       "    <tr>\n",
       "      <th>Dates</th>\n",
       "      <th>Symb</th>\n",
       "      <th></th>\n",
       "      <th></th>\n",
       "      <th></th>\n",
       "      <th></th>\n",
       "      <th></th>\n",
       "      <th></th>\n",
       "      <th></th>\n",
       "      <th></th>\n",
       "      <th></th>\n",
       "      <th></th>\n",
       "      <th></th>\n",
       "      <th></th>\n",
       "      <th></th>\n",
       "      <th></th>\n",
       "      <th></th>\n",
       "      <th></th>\n",
       "      <th></th>\n",
       "      <th></th>\n",
       "      <th></th>\n",
       "      <th></th>\n",
       "      <th></th>\n",
       "    </tr>\n",
       "  </thead>\n",
       "  <tbody>\n",
       "    <tr>\n",
       "      <th rowspan=\"5\" valign=\"top\">2015-02-02</th>\n",
       "      <th>A</th>\n",
       "      <td>0.0</td>\n",
       "      <td>1.0</td>\n",
       "      <td>0.0</td>\n",
       "      <td>0.0</td>\n",
       "      <td>0.0</td>\n",
       "      <td>0.0</td>\n",
       "      <td>0.0</td>\n",
       "      <td>0.0</td>\n",
       "      <td>0.0</td>\n",
       "      <td>0.0</td>\n",
       "      <td>...</td>\n",
       "      <td>0.134744</td>\n",
       "      <td>-0.208028</td>\n",
       "      <td>-0.347873</td>\n",
       "      <td>-0.058286</td>\n",
       "      <td>-0.299186</td>\n",
       "      <td>0.001022</td>\n",
       "      <td>-0.351726</td>\n",
       "      <td>0.120856</td>\n",
       "      <td>-0.087552</td>\n",
       "      <td>0.024358</td>\n",
       "    </tr>\n",
       "    <tr>\n",
       "      <th>AAL</th>\n",
       "      <td>1.0</td>\n",
       "      <td>0.0</td>\n",
       "      <td>0.0</td>\n",
       "      <td>0.0</td>\n",
       "      <td>0.0</td>\n",
       "      <td>0.0</td>\n",
       "      <td>0.0</td>\n",
       "      <td>0.0</td>\n",
       "      <td>0.0</td>\n",
       "      <td>0.0</td>\n",
       "      <td>...</td>\n",
       "      <td>-0.428377</td>\n",
       "      <td>0.380191</td>\n",
       "      <td>2.283966</td>\n",
       "      <td>-0.059618</td>\n",
       "      <td>-0.502251</td>\n",
       "      <td>0.024046</td>\n",
       "      <td>-0.280541</td>\n",
       "      <td>-0.245544</td>\n",
       "      <td>0.189152</td>\n",
       "      <td>-0.007335</td>\n",
       "    </tr>\n",
       "    <tr>\n",
       "      <th>AAP</th>\n",
       "      <td>0.0</td>\n",
       "      <td>0.0</td>\n",
       "      <td>0.0</td>\n",
       "      <td>0.0</td>\n",
       "      <td>1.0</td>\n",
       "      <td>0.0</td>\n",
       "      <td>0.0</td>\n",
       "      <td>0.0</td>\n",
       "      <td>0.0</td>\n",
       "      <td>0.0</td>\n",
       "      <td>...</td>\n",
       "      <td>-0.572432</td>\n",
       "      <td>0.696200</td>\n",
       "      <td>0.238881</td>\n",
       "      <td>-0.049277</td>\n",
       "      <td>0.687751</td>\n",
       "      <td>0.029013</td>\n",
       "      <td>0.639690</td>\n",
       "      <td>-0.050482</td>\n",
       "      <td>-0.033341</td>\n",
       "      <td>-0.019057</td>\n",
       "    </tr>\n",
       "    <tr>\n",
       "      <th>AAPL</th>\n",
       "      <td>0.0</td>\n",
       "      <td>0.0</td>\n",
       "      <td>1.0</td>\n",
       "      <td>0.0</td>\n",
       "      <td>0.0</td>\n",
       "      <td>0.0</td>\n",
       "      <td>0.0</td>\n",
       "      <td>0.0</td>\n",
       "      <td>0.0</td>\n",
       "      <td>0.0</td>\n",
       "      <td>...</td>\n",
       "      <td>0.801074</td>\n",
       "      <td>0.108586</td>\n",
       "      <td>0.563021</td>\n",
       "      <td>-0.058588</td>\n",
       "      <td>-0.333656</td>\n",
       "      <td>-0.000812</td>\n",
       "      <td>-0.479493</td>\n",
       "      <td>-0.234812</td>\n",
       "      <td>-0.051599</td>\n",
       "      <td>0.012547</td>\n",
       "    </tr>\n",
       "    <tr>\n",
       "      <th>ABC</th>\n",
       "      <td>0.0</td>\n",
       "      <td>1.0</td>\n",
       "      <td>0.0</td>\n",
       "      <td>0.0</td>\n",
       "      <td>0.0</td>\n",
       "      <td>0.0</td>\n",
       "      <td>0.0</td>\n",
       "      <td>0.0</td>\n",
       "      <td>0.0</td>\n",
       "      <td>0.0</td>\n",
       "      <td>...</td>\n",
       "      <td>-0.968581</td>\n",
       "      <td>4.809040</td>\n",
       "      <td>-0.507843</td>\n",
       "      <td>-0.057593</td>\n",
       "      <td>-3.725104</td>\n",
       "      <td>0.127249</td>\n",
       "      <td>0.036823</td>\n",
       "      <td>18.639466</td>\n",
       "      <td>0.048918</td>\n",
       "      <td>0.001052</td>\n",
       "    </tr>\n",
       "    <tr>\n",
       "      <th>...</th>\n",
       "      <th>...</th>\n",
       "      <td>...</td>\n",
       "      <td>...</td>\n",
       "      <td>...</td>\n",
       "      <td>...</td>\n",
       "      <td>...</td>\n",
       "      <td>...</td>\n",
       "      <td>...</td>\n",
       "      <td>...</td>\n",
       "      <td>...</td>\n",
       "      <td>...</td>\n",
       "      <td>...</td>\n",
       "      <td>...</td>\n",
       "      <td>...</td>\n",
       "      <td>...</td>\n",
       "      <td>...</td>\n",
       "      <td>...</td>\n",
       "      <td>...</td>\n",
       "      <td>...</td>\n",
       "      <td>...</td>\n",
       "      <td>...</td>\n",
       "      <td>...</td>\n",
       "    </tr>\n",
       "    <tr>\n",
       "      <th rowspan=\"5\" valign=\"top\">2018-12-31</th>\n",
       "      <th>XOM</th>\n",
       "      <td>0.0</td>\n",
       "      <td>0.0</td>\n",
       "      <td>0.0</td>\n",
       "      <td>0.0</td>\n",
       "      <td>0.0</td>\n",
       "      <td>0.0</td>\n",
       "      <td>0.0</td>\n",
       "      <td>0.0</td>\n",
       "      <td>0.0</td>\n",
       "      <td>0.0</td>\n",
       "      <td>...</td>\n",
       "      <td>-0.454882</td>\n",
       "      <td>-0.031549</td>\n",
       "      <td>-0.049209</td>\n",
       "      <td>-0.052448</td>\n",
       "      <td>-0.096661</td>\n",
       "      <td>0.044628</td>\n",
       "      <td>-0.240195</td>\n",
       "      <td>-0.391390</td>\n",
       "      <td>0.021728</td>\n",
       "      <td>0.000294</td>\n",
       "    </tr>\n",
       "    <tr>\n",
       "      <th>XRAY</th>\n",
       "      <td>0.0</td>\n",
       "      <td>1.0</td>\n",
       "      <td>0.0</td>\n",
       "      <td>0.0</td>\n",
       "      <td>0.0</td>\n",
       "      <td>0.0</td>\n",
       "      <td>0.0</td>\n",
       "      <td>0.0</td>\n",
       "      <td>0.0</td>\n",
       "      <td>0.0</td>\n",
       "      <td>...</td>\n",
       "      <td>-3.043773</td>\n",
       "      <td>-0.672860</td>\n",
       "      <td>-0.073522</td>\n",
       "      <td>-0.052380</td>\n",
       "      <td>-0.221149</td>\n",
       "      <td>-0.109644</td>\n",
       "      <td>-0.241371</td>\n",
       "      <td>-0.789366</td>\n",
       "      <td>0.025070</td>\n",
       "      <td>0.002965</td>\n",
       "    </tr>\n",
       "    <tr>\n",
       "      <th>YUM</th>\n",
       "      <td>0.0</td>\n",
       "      <td>0.0</td>\n",
       "      <td>0.0</td>\n",
       "      <td>0.0</td>\n",
       "      <td>1.0</td>\n",
       "      <td>0.0</td>\n",
       "      <td>0.0</td>\n",
       "      <td>0.0</td>\n",
       "      <td>0.0</td>\n",
       "      <td>0.0</td>\n",
       "      <td>...</td>\n",
       "      <td>1.068999</td>\n",
       "      <td>0.221340</td>\n",
       "      <td>-0.075809</td>\n",
       "      <td>-0.052424</td>\n",
       "      <td>-0.080303</td>\n",
       "      <td>0.038627</td>\n",
       "      <td>-0.197593</td>\n",
       "      <td>-0.170766</td>\n",
       "      <td>-0.025563</td>\n",
       "      <td>0.003384</td>\n",
       "    </tr>\n",
       "    <tr>\n",
       "      <th>ZBH</th>\n",
       "      <td>0.0</td>\n",
       "      <td>1.0</td>\n",
       "      <td>0.0</td>\n",
       "      <td>0.0</td>\n",
       "      <td>0.0</td>\n",
       "      <td>0.0</td>\n",
       "      <td>0.0</td>\n",
       "      <td>0.0</td>\n",
       "      <td>0.0</td>\n",
       "      <td>0.0</td>\n",
       "      <td>...</td>\n",
       "      <td>-1.430772</td>\n",
       "      <td>-0.733924</td>\n",
       "      <td>-0.060840</td>\n",
       "      <td>-0.052064</td>\n",
       "      <td>-0.648606</td>\n",
       "      <td>-0.234830</td>\n",
       "      <td>-0.009356</td>\n",
       "      <td>-0.789366</td>\n",
       "      <td>0.027703</td>\n",
       "      <td>0.010424</td>\n",
       "    </tr>\n",
       "    <tr>\n",
       "      <th>ZBRA</th>\n",
       "      <td>0.0</td>\n",
       "      <td>0.0</td>\n",
       "      <td>1.0</td>\n",
       "      <td>0.0</td>\n",
       "      <td>0.0</td>\n",
       "      <td>0.0</td>\n",
       "      <td>0.0</td>\n",
       "      <td>0.0</td>\n",
       "      <td>0.0</td>\n",
       "      <td>0.0</td>\n",
       "      <td>...</td>\n",
       "      <td>-0.273627</td>\n",
       "      <td>0.051662</td>\n",
       "      <td>-0.027386</td>\n",
       "      <td>-0.050229</td>\n",
       "      <td>-0.039433</td>\n",
       "      <td>0.003440</td>\n",
       "      <td>-0.043676</td>\n",
       "      <td>-0.115691</td>\n",
       "      <td>0.074083</td>\n",
       "      <td>0.020901</td>\n",
       "    </tr>\n",
       "  </tbody>\n",
       "</table>\n",
       "<p>402288 rows × 23 columns</p>\n",
       "</div>"
      ],
      "text/plain": [
       "                 Industrials  Health Care  Information Technology  \\\n",
       "Dates      Symb                                                     \n",
       "2015-02-02 A             0.0          1.0                     0.0   \n",
       "           AAL           1.0          0.0                     0.0   \n",
       "           AAP           0.0          0.0                     0.0   \n",
       "           AAPL          0.0          0.0                     1.0   \n",
       "           ABC           0.0          1.0                     0.0   \n",
       "...                      ...          ...                     ...   \n",
       "2018-12-31 XOM           0.0          0.0                     0.0   \n",
       "           XRAY          0.0          1.0                     0.0   \n",
       "           YUM           0.0          0.0                     0.0   \n",
       "           ZBH           0.0          1.0                     0.0   \n",
       "           ZBRA          0.0          0.0                     1.0   \n",
       "\n",
       "                 Communication Services  Consumer Discretionary  Utilities  \\\n",
       "Dates      Symb                                                              \n",
       "2015-02-02 A                        0.0                     0.0        0.0   \n",
       "           AAL                      0.0                     0.0        0.0   \n",
       "           AAP                      0.0                     1.0        0.0   \n",
       "           AAPL                     0.0                     0.0        0.0   \n",
       "           ABC                      0.0                     0.0        0.0   \n",
       "...                                 ...                     ...        ...   \n",
       "2018-12-31 XOM                      0.0                     0.0        0.0   \n",
       "           XRAY                     0.0                     0.0        0.0   \n",
       "           YUM                      0.0                     1.0        0.0   \n",
       "           ZBH                      0.0                     0.0        0.0   \n",
       "           ZBRA                     0.0                     0.0        0.0   \n",
       "\n",
       "                 Financials  Materials  Real Estate  Consumer Staples  ...  \\\n",
       "Dates      Symb                                                        ...   \n",
       "2015-02-02 A            0.0        0.0          0.0               0.0  ...   \n",
       "           AAL          0.0        0.0          0.0               0.0  ...   \n",
       "           AAP          0.0        0.0          0.0               0.0  ...   \n",
       "           AAPL         0.0        0.0          0.0               0.0  ...   \n",
       "           ABC          0.0        0.0          0.0               0.0  ...   \n",
       "...                     ...        ...          ...               ...  ...   \n",
       "2018-12-31 XOM          0.0        0.0          0.0               0.0  ...   \n",
       "           XRAY         0.0        0.0          0.0               0.0  ...   \n",
       "           YUM          0.0        0.0          0.0               0.0  ...   \n",
       "           ZBH          0.0        0.0          0.0               0.0  ...   \n",
       "           ZBRA         0.0        0.0          0.0               0.0  ...   \n",
       "\n",
       "                 Net Margin  Total Asset turnover  Return on Equity  DCF Prem  \\\n",
       "Dates      Symb                                                                 \n",
       "2015-02-02 A       0.134744             -0.208028         -0.347873 -0.058286   \n",
       "           AAL    -0.428377              0.380191          2.283966 -0.059618   \n",
       "           AAP    -0.572432              0.696200          0.238881 -0.049277   \n",
       "           AAPL    0.801074              0.108586          0.563021 -0.058588   \n",
       "           ABC    -0.968581              4.809040         -0.507843 -0.057593   \n",
       "...                     ...                   ...               ...       ...   \n",
       "2018-12-31 XOM    -0.454882             -0.031549         -0.049209 -0.052448   \n",
       "           XRAY   -3.043773             -0.672860         -0.073522 -0.052380   \n",
       "           YUM     1.068999              0.221340         -0.075809 -0.052424   \n",
       "           ZBH    -1.430772             -0.733924         -0.060840 -0.052064   \n",
       "           ZBRA   -0.273627              0.051662         -0.027386 -0.050229   \n",
       "\n",
       "                  PE Prem    Growth     Price         PE        PB    Return  \n",
       "Dates      Symb                                                               \n",
       "2015-02-02 A    -0.299186  0.001022 -0.351726   0.120856 -0.087552  0.024358  \n",
       "           AAL  -0.502251  0.024046 -0.280541  -0.245544  0.189152 -0.007335  \n",
       "           AAP   0.687751  0.029013  0.639690  -0.050482 -0.033341 -0.019057  \n",
       "           AAPL -0.333656 -0.000812 -0.479493  -0.234812 -0.051599  0.012547  \n",
       "           ABC  -3.725104  0.127249  0.036823  18.639466  0.048918  0.001052  \n",
       "...                   ...       ...       ...        ...       ...       ...  \n",
       "2018-12-31 XOM  -0.096661  0.044628 -0.240195  -0.391390  0.021728  0.000294  \n",
       "           XRAY -0.221149 -0.109644 -0.241371  -0.789366  0.025070  0.002965  \n",
       "           YUM  -0.080303  0.038627 -0.197593  -0.170766 -0.025563  0.003384  \n",
       "           ZBH  -0.648606 -0.234830 -0.009356  -0.789366  0.027703  0.010424  \n",
       "           ZBRA -0.039433  0.003440 -0.043676  -0.115691  0.074083  0.020901  \n",
       "\n",
       "[402288 rows x 23 columns]"
      ]
     },
     "execution_count": 4,
     "metadata": {},
     "output_type": "execute_result"
    }
   ],
   "source": [
    "longdata=pd.read_csv('longdata_final.csv',index_col=[1,0])\n",
    "longdata=longdata.sort_index()\n",
    "longdata.loc[\"2015-02-02\":\"2018-12-31\"].loc[\"2015-02-02\":\"2018-12-31\"]"
   ]
  },
  {
   "cell_type": "code",
   "execution_count": 5,
   "metadata": {},
   "outputs": [
    {
     "data": {
      "text/plain": [
       "<matplotlib.axes._subplots.AxesSubplot at 0x7f053a041450>"
      ]
     },
     "execution_count": 5,
     "metadata": {},
     "output_type": "execute_result"
    },
    {
     "data": {
      "image/png": "[encoded data removed]",
      "text/plain": [
       "<Figure size 1152x576 with 2 Axes>"
      ]
     },
     "metadata": {
      "needs_background": "light"
     },
     "output_type": "display_data"
    }
   ],
   "source": [
    "plt.figure(figsize=(16,8))\n",
    "sns.heatmap(longdata.corr(),vmin=-1, vmax=1,annot=True)"
   ]
  },
  {
   "cell_type": "code",
   "execution_count": 6,
   "metadata": {},
   "outputs": [],
   "source": [
    "longdata[\"Excess Return\"]=longdata[\"Return\"]-longdata[\"Return\"].groupby(level=0).median()"
   ]
  },
  {
   "cell_type": "code",
   "execution_count": 7,
   "metadata": {},
   "outputs": [
    {
     "data": {
      "text/plain": [
       "Dates\n",
       "2015-02-02    0.009857\n",
       "2015-02-03    0.014044\n",
       "2015-02-04   -0.002583\n",
       "2015-02-05    0.010077\n",
       "2015-02-06   -0.003874\n",
       "                ...   \n",
       "2020-12-24    0.003315\n",
       "2020-12-28    0.002205\n",
       "2020-12-29   -0.005233\n",
       "2020-12-30    0.004655\n",
       "2020-12-31    0.008998\n",
       "Name: Return, Length: 1491, dtype: float64"
      ]
     },
     "execution_count": 7,
     "metadata": {},
     "output_type": "execute_result"
    }
   ],
   "source": [
    "longdata[\"Return\"].groupby(level=0).median()"
   ]
  },
  {
   "cell_type": "code",
   "execution_count": 8,
   "metadata": {},
   "outputs": [
    {
     "data": {
      "text/html": [
       "<div>\n",
       "<style scoped>\n",
       "    .dataframe tbody tr th:only-of-type {\n",
       "        vertical-align: middle;\n",
       "    }\n",
       "\n",
       "    .dataframe tbody tr th {\n",
       "        vertical-align: top;\n",
       "    }\n",
       "\n",
       "    .dataframe thead th {\n",
       "        text-align: right;\n",
       "    }\n",
       "</style>\n",
       "<table border=\"1\" class=\"dataframe\">\n",
       "  <thead>\n",
       "    <tr style=\"text-align: right;\">\n",
       "      <th></th>\n",
       "      <th></th>\n",
       "      <th>Industrials</th>\n",
       "      <th>Health Care</th>\n",
       "      <th>Information Technology</th>\n",
       "      <th>Communication Services</th>\n",
       "      <th>Consumer Discretionary</th>\n",
       "      <th>Utilities</th>\n",
       "      <th>Financials</th>\n",
       "      <th>Materials</th>\n",
       "      <th>Real Estate</th>\n",
       "      <th>Consumer Staples</th>\n",
       "      <th>...</th>\n",
       "      <th>Total Asset turnover</th>\n",
       "      <th>Return on Equity</th>\n",
       "      <th>DCF Prem</th>\n",
       "      <th>PE Prem</th>\n",
       "      <th>Growth</th>\n",
       "      <th>Price</th>\n",
       "      <th>PE</th>\n",
       "      <th>PB</th>\n",
       "      <th>Return</th>\n",
       "      <th>Excess Return</th>\n",
       "    </tr>\n",
       "    <tr>\n",
       "      <th>Dates</th>\n",
       "      <th>Symb</th>\n",
       "      <th></th>\n",
       "      <th></th>\n",
       "      <th></th>\n",
       "      <th></th>\n",
       "      <th></th>\n",
       "      <th></th>\n",
       "      <th></th>\n",
       "      <th></th>\n",
       "      <th></th>\n",
       "      <th></th>\n",
       "      <th></th>\n",
       "      <th></th>\n",
       "      <th></th>\n",
       "      <th></th>\n",
       "      <th></th>\n",
       "      <th></th>\n",
       "      <th></th>\n",
       "      <th></th>\n",
       "      <th></th>\n",
       "      <th></th>\n",
       "      <th></th>\n",
       "    </tr>\n",
       "  </thead>\n",
       "  <tbody>\n",
       "    <tr>\n",
       "      <th rowspan=\"5\" valign=\"top\">2015-02-02</th>\n",
       "      <th>A</th>\n",
       "      <td>0.0</td>\n",
       "      <td>1.0</td>\n",
       "      <td>0.0</td>\n",
       "      <td>0.0</td>\n",
       "      <td>0.0</td>\n",
       "      <td>0.0</td>\n",
       "      <td>0.0</td>\n",
       "      <td>0.0</td>\n",
       "      <td>0.0</td>\n",
       "      <td>0.0</td>\n",
       "      <td>...</td>\n",
       "      <td>-0.208028</td>\n",
       "      <td>-0.347873</td>\n",
       "      <td>-0.058286</td>\n",
       "      <td>-0.299186</td>\n",
       "      <td>0.001022</td>\n",
       "      <td>-0.351726</td>\n",
       "      <td>0.120856</td>\n",
       "      <td>-0.087552</td>\n",
       "      <td>0.024358</td>\n",
       "      <td>1</td>\n",
       "    </tr>\n",
       "    <tr>\n",
       "      <th>AAL</th>\n",
       "      <td>1.0</td>\n",
       "      <td>0.0</td>\n",
       "      <td>0.0</td>\n",
       "      <td>0.0</td>\n",
       "      <td>0.0</td>\n",
       "      <td>0.0</td>\n",
       "      <td>0.0</td>\n",
       "      <td>0.0</td>\n",
       "      <td>0.0</td>\n",
       "      <td>0.0</td>\n",
       "      <td>...</td>\n",
       "      <td>0.380191</td>\n",
       "      <td>2.283966</td>\n",
       "      <td>-0.059618</td>\n",
       "      <td>-0.502251</td>\n",
       "      <td>0.024046</td>\n",
       "      <td>-0.280541</td>\n",
       "      <td>-0.245544</td>\n",
       "      <td>0.189152</td>\n",
       "      <td>-0.007335</td>\n",
       "      <td>0</td>\n",
       "    </tr>\n",
       "    <tr>\n",
       "      <th>AAP</th>\n",
       "      <td>0.0</td>\n",
       "      <td>0.0</td>\n",
       "      <td>0.0</td>\n",
       "      <td>0.0</td>\n",
       "      <td>1.0</td>\n",
       "      <td>0.0</td>\n",
       "      <td>0.0</td>\n",
       "      <td>0.0</td>\n",
       "      <td>0.0</td>\n",
       "      <td>0.0</td>\n",
       "      <td>...</td>\n",
       "      <td>0.696200</td>\n",
       "      <td>0.238881</td>\n",
       "      <td>-0.049277</td>\n",
       "      <td>0.687751</td>\n",
       "      <td>0.029013</td>\n",
       "      <td>0.639690</td>\n",
       "      <td>-0.050482</td>\n",
       "      <td>-0.033341</td>\n",
       "      <td>-0.019057</td>\n",
       "      <td>0</td>\n",
       "    </tr>\n",
       "    <tr>\n",
       "      <th>AAPL</th>\n",
       "      <td>0.0</td>\n",
       "      <td>0.0</td>\n",
       "      <td>1.0</td>\n",
       "      <td>0.0</td>\n",
       "      <td>0.0</td>\n",
       "      <td>0.0</td>\n",
       "      <td>0.0</td>\n",
       "      <td>0.0</td>\n",
       "      <td>0.0</td>\n",
       "      <td>0.0</td>\n",
       "      <td>...</td>\n",
       "      <td>0.108586</td>\n",
       "      <td>0.563021</td>\n",
       "      <td>-0.058588</td>\n",
       "      <td>-0.333656</td>\n",
       "      <td>-0.000812</td>\n",
       "      <td>-0.479493</td>\n",
       "      <td>-0.234812</td>\n",
       "      <td>-0.051599</td>\n",
       "      <td>0.012547</td>\n",
       "      <td>1</td>\n",
       "    </tr>\n",
       "    <tr>\n",
       "      <th>ABC</th>\n",
       "      <td>0.0</td>\n",
       "      <td>1.0</td>\n",
       "      <td>0.0</td>\n",
       "      <td>0.0</td>\n",
       "      <td>0.0</td>\n",
       "      <td>0.0</td>\n",
       "      <td>0.0</td>\n",
       "      <td>0.0</td>\n",
       "      <td>0.0</td>\n",
       "      <td>0.0</td>\n",
       "      <td>...</td>\n",
       "      <td>4.809040</td>\n",
       "      <td>-0.507843</td>\n",
       "      <td>-0.057593</td>\n",
       "      <td>-3.725104</td>\n",
       "      <td>0.127249</td>\n",
       "      <td>0.036823</td>\n",
       "      <td>18.639466</td>\n",
       "      <td>0.048918</td>\n",
       "      <td>0.001052</td>\n",
       "      <td>0</td>\n",
       "    </tr>\n",
       "    <tr>\n",
       "      <th>...</th>\n",
       "      <th>...</th>\n",
       "      <td>...</td>\n",
       "      <td>...</td>\n",
       "      <td>...</td>\n",
       "      <td>...</td>\n",
       "      <td>...</td>\n",
       "      <td>...</td>\n",
       "      <td>...</td>\n",
       "      <td>...</td>\n",
       "      <td>...</td>\n",
       "      <td>...</td>\n",
       "      <td>...</td>\n",
       "      <td>...</td>\n",
       "      <td>...</td>\n",
       "      <td>...</td>\n",
       "      <td>...</td>\n",
       "      <td>...</td>\n",
       "      <td>...</td>\n",
       "      <td>...</td>\n",
       "      <td>...</td>\n",
       "      <td>...</td>\n",
       "      <td>...</td>\n",
       "    </tr>\n",
       "    <tr>\n",
       "      <th rowspan=\"5\" valign=\"top\">2020-12-31</th>\n",
       "      <th>XOM</th>\n",
       "      <td>0.0</td>\n",
       "      <td>0.0</td>\n",
       "      <td>0.0</td>\n",
       "      <td>0.0</td>\n",
       "      <td>0.0</td>\n",
       "      <td>0.0</td>\n",
       "      <td>0.0</td>\n",
       "      <td>0.0</td>\n",
       "      <td>0.0</td>\n",
       "      <td>0.0</td>\n",
       "      <td>...</td>\n",
       "      <td>-0.424484</td>\n",
       "      <td>-0.072130</td>\n",
       "      <td>-0.051589</td>\n",
       "      <td>0.017214</td>\n",
       "      <td>0.044628</td>\n",
       "      <td>-0.326802</td>\n",
       "      <td>-0.343924</td>\n",
       "      <td>-0.181647</td>\n",
       "      <td>-0.009135</td>\n",
       "      <td>0</td>\n",
       "    </tr>\n",
       "    <tr>\n",
       "      <th>XRAY</th>\n",
       "      <td>0.0</td>\n",
       "      <td>1.0</td>\n",
       "      <td>0.0</td>\n",
       "      <td>0.0</td>\n",
       "      <td>0.0</td>\n",
       "      <td>0.0</td>\n",
       "      <td>0.0</td>\n",
       "      <td>0.0</td>\n",
       "      <td>0.0</td>\n",
       "      <td>0.0</td>\n",
       "      <td>...</td>\n",
       "      <td>-0.284302</td>\n",
       "      <td>-0.067586</td>\n",
       "      <td>-0.051597</td>\n",
       "      <td>-0.026779</td>\n",
       "      <td>-0.109644</td>\n",
       "      <td>-0.383967</td>\n",
       "      <td>-0.343924</td>\n",
       "      <td>-0.153711</td>\n",
       "      <td>0.017489</td>\n",
       "      <td>1</td>\n",
       "    </tr>\n",
       "    <tr>\n",
       "      <th>YUM</th>\n",
       "      <td>0.0</td>\n",
       "      <td>0.0</td>\n",
       "      <td>0.0</td>\n",
       "      <td>0.0</td>\n",
       "      <td>1.0</td>\n",
       "      <td>0.0</td>\n",
       "      <td>0.0</td>\n",
       "      <td>0.0</td>\n",
       "      <td>0.0</td>\n",
       "      <td>0.0</td>\n",
       "      <td>...</td>\n",
       "      <td>-0.311942</td>\n",
       "      <td>-0.071644</td>\n",
       "      <td>-0.051519</td>\n",
       "      <td>0.060282</td>\n",
       "      <td>0.038627</td>\n",
       "      <td>-0.147000</td>\n",
       "      <td>-0.057681</td>\n",
       "      <td>-0.296966</td>\n",
       "      <td>-0.008675</td>\n",
       "      <td>0</td>\n",
       "    </tr>\n",
       "    <tr>\n",
       "      <th>ZBH</th>\n",
       "      <td>0.0</td>\n",
       "      <td>1.0</td>\n",
       "      <td>0.0</td>\n",
       "      <td>0.0</td>\n",
       "      <td>0.0</td>\n",
       "      <td>0.0</td>\n",
       "      <td>0.0</td>\n",
       "      <td>0.0</td>\n",
       "      <td>0.0</td>\n",
       "      <td>0.0</td>\n",
       "      <td>...</td>\n",
       "      <td>-0.278873</td>\n",
       "      <td>-0.067352</td>\n",
       "      <td>-0.051292</td>\n",
       "      <td>-0.036365</td>\n",
       "      <td>-0.234830</td>\n",
       "      <td>-0.037346</td>\n",
       "      <td>-0.343924</td>\n",
       "      <td>-0.146559</td>\n",
       "      <td>0.012285</td>\n",
       "      <td>1</td>\n",
       "    </tr>\n",
       "    <tr>\n",
       "      <th>ZBRA</th>\n",
       "      <td>0.0</td>\n",
       "      <td>0.0</td>\n",
       "      <td>1.0</td>\n",
       "      <td>0.0</td>\n",
       "      <td>0.0</td>\n",
       "      <td>0.0</td>\n",
       "      <td>0.0</td>\n",
       "      <td>0.0</td>\n",
       "      <td>0.0</td>\n",
       "      <td>0.0</td>\n",
       "      <td>...</td>\n",
       "      <td>-0.227931</td>\n",
       "      <td>-0.055566</td>\n",
       "      <td>-0.043511</td>\n",
       "      <td>0.062676</td>\n",
       "      <td>0.003440</td>\n",
       "      <td>0.406319</td>\n",
       "      <td>-0.024111</td>\n",
       "      <td>0.008988</td>\n",
       "      <td>0.001511</td>\n",
       "      <td>0</td>\n",
       "    </tr>\n",
       "  </tbody>\n",
       "</table>\n",
       "<p>608328 rows × 24 columns</p>\n",
       "</div>"
      ],
      "text/plain": [
       "                 Industrials  Health Care  Information Technology  \\\n",
       "Dates      Symb                                                     \n",
       "2015-02-02 A             0.0          1.0                     0.0   \n",
       "           AAL           1.0          0.0                     0.0   \n",
       "           AAP           0.0          0.0                     0.0   \n",
       "           AAPL          0.0          0.0                     1.0   \n",
       "           ABC           0.0          1.0                     0.0   \n",
       "...                      ...          ...                     ...   \n",
       "2020-12-31 XOM           0.0          0.0                     0.0   \n",
       "           XRAY          0.0          1.0                     0.0   \n",
       "           YUM           0.0          0.0                     0.0   \n",
       "           ZBH           0.0          1.0                     0.0   \n",
       "           ZBRA          0.0          0.0                     1.0   \n",
       "\n",
       "                 Communication Services  Consumer Discretionary  Utilities  \\\n",
       "Dates      Symb                                                              \n",
       "2015-02-02 A                        0.0                     0.0        0.0   \n",
       "           AAL                      0.0                     0.0        0.0   \n",
       "           AAP                      0.0                     1.0        0.0   \n",
       "           AAPL                     0.0                     0.0        0.0   \n",
       "           ABC                      0.0                     0.0        0.0   \n",
       "...                                 ...                     ...        ...   \n",
       "2020-12-31 XOM                      0.0                     0.0        0.0   \n",
       "           XRAY                     0.0                     0.0        0.0   \n",
       "           YUM                      0.0                     1.0        0.0   \n",
       "           ZBH                      0.0                     0.0        0.0   \n",
       "           ZBRA                     0.0                     0.0        0.0   \n",
       "\n",
       "                 Financials  Materials  Real Estate  Consumer Staples  ...  \\\n",
       "Dates      Symb                                                        ...   \n",
       "2015-02-02 A            0.0        0.0          0.0               0.0  ...   \n",
       "           AAL          0.0        0.0          0.0               0.0  ...   \n",
       "           AAP          0.0        0.0          0.0               0.0  ...   \n",
       "           AAPL         0.0        0.0          0.0               0.0  ...   \n",
       "           ABC          0.0        0.0          0.0               0.0  ...   \n",
       "...                     ...        ...          ...               ...  ...   \n",
       "2020-12-31 XOM          0.0        0.0          0.0               0.0  ...   \n",
       "           XRAY         0.0        0.0          0.0               0.0  ...   \n",
       "           YUM          0.0        0.0          0.0               0.0  ...   \n",
       "           ZBH          0.0        0.0          0.0               0.0  ...   \n",
       "           ZBRA         0.0        0.0          0.0               0.0  ...   \n",
       "\n",
       "                 Total Asset turnover  Return on Equity  DCF Prem   PE Prem  \\\n",
       "Dates      Symb                                                               \n",
       "2015-02-02 A                -0.208028         -0.347873 -0.058286 -0.299186   \n",
       "           AAL               0.380191          2.283966 -0.059618 -0.502251   \n",
       "           AAP               0.696200          0.238881 -0.049277  0.687751   \n",
       "           AAPL              0.108586          0.563021 -0.058588 -0.333656   \n",
       "           ABC               4.809040         -0.507843 -0.057593 -3.725104   \n",
       "...                               ...               ...       ...       ...   \n",
       "2020-12-31 XOM              -0.424484         -0.072130 -0.051589  0.017214   \n",
       "           XRAY             -0.284302         -0.067586 -0.051597 -0.026779   \n",
       "           YUM              -0.311942         -0.071644 -0.051519  0.060282   \n",
       "           ZBH              -0.278873         -0.067352 -0.051292 -0.036365   \n",
       "           ZBRA             -0.227931         -0.055566 -0.043511  0.062676   \n",
       "\n",
       "                   Growth     Price         PE        PB    Return  \\\n",
       "Dates      Symb                                                      \n",
       "2015-02-02 A     0.001022 -0.351726   0.120856 -0.087552  0.024358   \n",
       "           AAL   0.024046 -0.280541  -0.245544  0.189152 -0.007335   \n",
       "           AAP   0.029013  0.639690  -0.050482 -0.033341 -0.019057   \n",
       "           AAPL -0.000812 -0.479493  -0.234812 -0.051599  0.012547   \n",
       "           ABC   0.127249  0.036823  18.639466  0.048918  0.001052   \n",
       "...                   ...       ...        ...       ...       ...   \n",
       "2020-12-31 XOM   0.044628 -0.326802  -0.343924 -0.181647 -0.009135   \n",
       "           XRAY -0.109644 -0.383967  -0.343924 -0.153711  0.017489   \n",
       "           YUM   0.038627 -0.147000  -0.057681 -0.296966 -0.008675   \n",
       "           ZBH  -0.234830 -0.037346  -0.343924 -0.146559  0.012285   \n",
       "           ZBRA  0.003440  0.406319  -0.024111  0.008988  0.001511   \n",
       "\n",
       "                 Excess Return  \n",
       "Dates      Symb                 \n",
       "2015-02-02 A                 1  \n",
       "           AAL               0  \n",
       "           AAP               0  \n",
       "           AAPL              1  \n",
       "           ABC               0  \n",
       "...                        ...  \n",
       "2020-12-31 XOM               0  \n",
       "           XRAY              1  \n",
       "           YUM               0  \n",
       "           ZBH               1  \n",
       "           ZBRA              0  \n",
       "\n",
       "[608328 rows x 24 columns]"
      ]
     },
     "execution_count": 8,
     "metadata": {},
     "output_type": "execute_result"
    }
   ],
   "source": [
    "longdata[\"Excess Return\"]=(longdata[\"Excess Return\"]>0)*1+(longdata[\"Excess Return\"]<0)*0\n",
    "longdata"
   ]
  },
  {
   "cell_type": "code",
   "execution_count": 9,
   "metadata": {},
   "outputs": [
    {
     "data": {
      "text/plain": [
       "0.4999556160492366"
      ]
     },
     "execution_count": 9,
     "metadata": {},
     "output_type": "execute_result"
    }
   ],
   "source": [
    "#Classes are balance\n",
    "#label 1 means positive excess return, label 0 means negative or 0 excess return\n",
    "longdata[\"Excess Return\"].sum(axis=0)/longdata[\"Excess Return\"].shape[0]"
   ]
  },
  {
   "cell_type": "code",
   "execution_count": 10,
   "metadata": {},
   "outputs": [],
   "source": [
    "#longdata.dropna()\n",
    "longdata.dropna(inplace=True)"
   ]
  },
  {
   "cell_type": "code",
   "execution_count": 11,
   "metadata": {},
   "outputs": [],
   "source": [
    "X=longdata.iloc[:,:-2]\n",
    "Y=longdata[\"Excess Return\"]"
   ]
  },
  {
   "cell_type": "code",
   "execution_count": 12,
   "metadata": {},
   "outputs": [],
   "source": [
    "Xtrain=X.loc[\"2015-02-02\":\"2018-12-31\"]\n",
    "Ytrain=Y.loc[\"2015-02-02\":\"2018-12-31\"]\n",
    "Xtest=X.loc[\"2019-01-01\":]\n",
    "Ytest=Y.loc[\"2019-01-01\":]"
   ]
  },
  {
   "cell_type": "code",
   "execution_count": 13,
   "metadata": {},
   "outputs": [
    {
     "data": {
      "text/html": [
       "<div>\n",
       "<style scoped>\n",
       "    .dataframe tbody tr th:only-of-type {\n",
       "        vertical-align: middle;\n",
       "    }\n",
       "\n",
       "    .dataframe tbody tr th {\n",
       "        vertical-align: top;\n",
       "    }\n",
       "\n",
       "    .dataframe thead th {\n",
       "        text-align: right;\n",
       "    }\n",
       "</style>\n",
       "<table border=\"1\" class=\"dataframe\">\n",
       "  <thead>\n",
       "    <tr style=\"text-align: right;\">\n",
       "      <th></th>\n",
       "      <th></th>\n",
       "      <th>Industrials</th>\n",
       "      <th>Health Care</th>\n",
       "      <th>Information Technology</th>\n",
       "      <th>Communication Services</th>\n",
       "      <th>Consumer Discretionary</th>\n",
       "      <th>Utilities</th>\n",
       "      <th>Financials</th>\n",
       "      <th>Materials</th>\n",
       "      <th>Real Estate</th>\n",
       "      <th>Consumer Staples</th>\n",
       "      <th>...</th>\n",
       "      <th>MOM</th>\n",
       "      <th>Net Margin</th>\n",
       "      <th>Total Asset turnover</th>\n",
       "      <th>Return on Equity</th>\n",
       "      <th>DCF Prem</th>\n",
       "      <th>PE Prem</th>\n",
       "      <th>Growth</th>\n",
       "      <th>Price</th>\n",
       "      <th>PE</th>\n",
       "      <th>PB</th>\n",
       "    </tr>\n",
       "    <tr>\n",
       "      <th>Dates</th>\n",
       "      <th>Symb</th>\n",
       "      <th></th>\n",
       "      <th></th>\n",
       "      <th></th>\n",
       "      <th></th>\n",
       "      <th></th>\n",
       "      <th></th>\n",
       "      <th></th>\n",
       "      <th></th>\n",
       "      <th></th>\n",
       "      <th></th>\n",
       "      <th></th>\n",
       "      <th></th>\n",
       "      <th></th>\n",
       "      <th></th>\n",
       "      <th></th>\n",
       "      <th></th>\n",
       "      <th></th>\n",
       "      <th></th>\n",
       "      <th></th>\n",
       "      <th></th>\n",
       "      <th></th>\n",
       "    </tr>\n",
       "  </thead>\n",
       "  <tbody>\n",
       "    <tr>\n",
       "      <th rowspan=\"5\" valign=\"top\">2015-02-02</th>\n",
       "      <th>A</th>\n",
       "      <td>0.0</td>\n",
       "      <td>1.0</td>\n",
       "      <td>0.0</td>\n",
       "      <td>0.0</td>\n",
       "      <td>0.0</td>\n",
       "      <td>0.0</td>\n",
       "      <td>0.0</td>\n",
       "      <td>0.0</td>\n",
       "      <td>0.0</td>\n",
       "      <td>0.0</td>\n",
       "      <td>...</td>\n",
       "      <td>-1.236034</td>\n",
       "      <td>0.134744</td>\n",
       "      <td>-0.208028</td>\n",
       "      <td>-0.347873</td>\n",
       "      <td>-0.058286</td>\n",
       "      <td>-0.299186</td>\n",
       "      <td>0.001022</td>\n",
       "      <td>-0.351726</td>\n",
       "      <td>0.120856</td>\n",
       "      <td>-0.087552</td>\n",
       "    </tr>\n",
       "    <tr>\n",
       "      <th>AAL</th>\n",
       "      <td>1.0</td>\n",
       "      <td>0.0</td>\n",
       "      <td>0.0</td>\n",
       "      <td>0.0</td>\n",
       "      <td>0.0</td>\n",
       "      <td>0.0</td>\n",
       "      <td>0.0</td>\n",
       "      <td>0.0</td>\n",
       "      <td>0.0</td>\n",
       "      <td>0.0</td>\n",
       "      <td>...</td>\n",
       "      <td>1.979888</td>\n",
       "      <td>-0.428377</td>\n",
       "      <td>0.380191</td>\n",
       "      <td>2.283966</td>\n",
       "      <td>-0.059618</td>\n",
       "      <td>-0.502251</td>\n",
       "      <td>0.024046</td>\n",
       "      <td>-0.280541</td>\n",
       "      <td>-0.245544</td>\n",
       "      <td>0.189152</td>\n",
       "    </tr>\n",
       "    <tr>\n",
       "      <th>AAP</th>\n",
       "      <td>0.0</td>\n",
       "      <td>0.0</td>\n",
       "      <td>0.0</td>\n",
       "      <td>0.0</td>\n",
       "      <td>1.0</td>\n",
       "      <td>0.0</td>\n",
       "      <td>0.0</td>\n",
       "      <td>0.0</td>\n",
       "      <td>0.0</td>\n",
       "      <td>0.0</td>\n",
       "      <td>...</td>\n",
       "      <td>0.930309</td>\n",
       "      <td>-0.572432</td>\n",
       "      <td>0.696200</td>\n",
       "      <td>0.238881</td>\n",
       "      <td>-0.049277</td>\n",
       "      <td>0.687751</td>\n",
       "      <td>0.029013</td>\n",
       "      <td>0.639690</td>\n",
       "      <td>-0.050482</td>\n",
       "      <td>-0.033341</td>\n",
       "    </tr>\n",
       "    <tr>\n",
       "      <th>AAPL</th>\n",
       "      <td>0.0</td>\n",
       "      <td>0.0</td>\n",
       "      <td>1.0</td>\n",
       "      <td>0.0</td>\n",
       "      <td>0.0</td>\n",
       "      <td>0.0</td>\n",
       "      <td>0.0</td>\n",
       "      <td>0.0</td>\n",
       "      <td>0.0</td>\n",
       "      <td>0.0</td>\n",
       "      <td>...</td>\n",
       "      <td>1.764043</td>\n",
       "      <td>0.801074</td>\n",
       "      <td>0.108586</td>\n",
       "      <td>0.563021</td>\n",
       "      <td>-0.058588</td>\n",
       "      <td>-0.333656</td>\n",
       "      <td>-0.000812</td>\n",
       "      <td>-0.479493</td>\n",
       "      <td>-0.234812</td>\n",
       "      <td>-0.051599</td>\n",
       "    </tr>\n",
       "    <tr>\n",
       "      <th>ABC</th>\n",
       "      <td>0.0</td>\n",
       "      <td>1.0</td>\n",
       "      <td>0.0</td>\n",
       "      <td>0.0</td>\n",
       "      <td>0.0</td>\n",
       "      <td>0.0</td>\n",
       "      <td>0.0</td>\n",
       "      <td>0.0</td>\n",
       "      <td>0.0</td>\n",
       "      <td>0.0</td>\n",
       "      <td>...</td>\n",
       "      <td>0.716376</td>\n",
       "      <td>-0.968581</td>\n",
       "      <td>4.809040</td>\n",
       "      <td>-0.507843</td>\n",
       "      <td>-0.057593</td>\n",
       "      <td>-3.725104</td>\n",
       "      <td>0.127249</td>\n",
       "      <td>0.036823</td>\n",
       "      <td>18.639466</td>\n",
       "      <td>0.048918</td>\n",
       "    </tr>\n",
       "    <tr>\n",
       "      <th>...</th>\n",
       "      <th>...</th>\n",
       "      <td>...</td>\n",
       "      <td>...</td>\n",
       "      <td>...</td>\n",
       "      <td>...</td>\n",
       "      <td>...</td>\n",
       "      <td>...</td>\n",
       "      <td>...</td>\n",
       "      <td>...</td>\n",
       "      <td>...</td>\n",
       "      <td>...</td>\n",
       "      <td>...</td>\n",
       "      <td>...</td>\n",
       "      <td>...</td>\n",
       "      <td>...</td>\n",
       "      <td>...</td>\n",
       "      <td>...</td>\n",
       "      <td>...</td>\n",
       "      <td>...</td>\n",
       "      <td>...</td>\n",
       "      <td>...</td>\n",
       "      <td>...</td>\n",
       "    </tr>\n",
       "    <tr>\n",
       "      <th rowspan=\"5\" valign=\"top\">2018-12-31</th>\n",
       "      <th>XOM</th>\n",
       "      <td>0.0</td>\n",
       "      <td>0.0</td>\n",
       "      <td>0.0</td>\n",
       "      <td>0.0</td>\n",
       "      <td>0.0</td>\n",
       "      <td>0.0</td>\n",
       "      <td>0.0</td>\n",
       "      <td>0.0</td>\n",
       "      <td>0.0</td>\n",
       "      <td>0.0</td>\n",
       "      <td>...</td>\n",
       "      <td>-0.311411</td>\n",
       "      <td>-0.454882</td>\n",
       "      <td>-0.031549</td>\n",
       "      <td>-0.049209</td>\n",
       "      <td>-0.052448</td>\n",
       "      <td>-0.096661</td>\n",
       "      <td>0.044628</td>\n",
       "      <td>-0.240195</td>\n",
       "      <td>-0.391390</td>\n",
       "      <td>0.021728</td>\n",
       "    </tr>\n",
       "    <tr>\n",
       "      <th>XRAY</th>\n",
       "      <td>0.0</td>\n",
       "      <td>1.0</td>\n",
       "      <td>0.0</td>\n",
       "      <td>0.0</td>\n",
       "      <td>0.0</td>\n",
       "      <td>0.0</td>\n",
       "      <td>0.0</td>\n",
       "      <td>0.0</td>\n",
       "      <td>0.0</td>\n",
       "      <td>0.0</td>\n",
       "      <td>...</td>\n",
       "      <td>-2.730451</td>\n",
       "      <td>-3.043773</td>\n",
       "      <td>-0.672860</td>\n",
       "      <td>-0.073522</td>\n",
       "      <td>-0.052380</td>\n",
       "      <td>-0.221149</td>\n",
       "      <td>-0.109644</td>\n",
       "      <td>-0.241371</td>\n",
       "      <td>-0.789366</td>\n",
       "      <td>0.025070</td>\n",
       "    </tr>\n",
       "    <tr>\n",
       "      <th>YUM</th>\n",
       "      <td>0.0</td>\n",
       "      <td>0.0</td>\n",
       "      <td>0.0</td>\n",
       "      <td>0.0</td>\n",
       "      <td>1.0</td>\n",
       "      <td>0.0</td>\n",
       "      <td>0.0</td>\n",
       "      <td>0.0</td>\n",
       "      <td>0.0</td>\n",
       "      <td>0.0</td>\n",
       "      <td>...</td>\n",
       "      <td>0.379633</td>\n",
       "      <td>1.068999</td>\n",
       "      <td>0.221340</td>\n",
       "      <td>-0.075809</td>\n",
       "      <td>-0.052424</td>\n",
       "      <td>-0.080303</td>\n",
       "      <td>0.038627</td>\n",
       "      <td>-0.197593</td>\n",
       "      <td>-0.170766</td>\n",
       "      <td>-0.025563</td>\n",
       "    </tr>\n",
       "    <tr>\n",
       "      <th>ZBH</th>\n",
       "      <td>0.0</td>\n",
       "      <td>1.0</td>\n",
       "      <td>0.0</td>\n",
       "      <td>0.0</td>\n",
       "      <td>0.0</td>\n",
       "      <td>0.0</td>\n",
       "      <td>0.0</td>\n",
       "      <td>0.0</td>\n",
       "      <td>0.0</td>\n",
       "      <td>0.0</td>\n",
       "      <td>...</td>\n",
       "      <td>-0.330681</td>\n",
       "      <td>-1.430772</td>\n",
       "      <td>-0.733924</td>\n",
       "      <td>-0.060840</td>\n",
       "      <td>-0.052064</td>\n",
       "      <td>-0.648606</td>\n",
       "      <td>-0.234830</td>\n",
       "      <td>-0.009356</td>\n",
       "      <td>-0.789366</td>\n",
       "      <td>0.027703</td>\n",
       "    </tr>\n",
       "    <tr>\n",
       "      <th>ZBRA</th>\n",
       "      <td>0.0</td>\n",
       "      <td>0.0</td>\n",
       "      <td>1.0</td>\n",
       "      <td>0.0</td>\n",
       "      <td>0.0</td>\n",
       "      <td>0.0</td>\n",
       "      <td>0.0</td>\n",
       "      <td>0.0</td>\n",
       "      <td>0.0</td>\n",
       "      <td>0.0</td>\n",
       "      <td>...</td>\n",
       "      <td>2.455067</td>\n",
       "      <td>-0.273627</td>\n",
       "      <td>0.051662</td>\n",
       "      <td>-0.027386</td>\n",
       "      <td>-0.050229</td>\n",
       "      <td>-0.039433</td>\n",
       "      <td>0.003440</td>\n",
       "      <td>-0.043676</td>\n",
       "      <td>-0.115691</td>\n",
       "      <td>0.074083</td>\n",
       "    </tr>\n",
       "  </tbody>\n",
       "</table>\n",
       "<p>402288 rows × 22 columns</p>\n",
       "</div>"
      ],
      "text/plain": [
       "                 Industrials  Health Care  Information Technology  \\\n",
       "Dates      Symb                                                     \n",
       "2015-02-02 A             0.0          1.0                     0.0   \n",
       "           AAL           1.0          0.0                     0.0   \n",
       "           AAP           0.0          0.0                     0.0   \n",
       "           AAPL          0.0          0.0                     1.0   \n",
       "           ABC           0.0          1.0                     0.0   \n",
       "...                      ...          ...                     ...   \n",
       "2018-12-31 XOM           0.0          0.0                     0.0   \n",
       "           XRAY          0.0          1.0                     0.0   \n",
       "           YUM           0.0          0.0                     0.0   \n",
       "           ZBH           0.0          1.0                     0.0   \n",
       "           ZBRA          0.0          0.0                     1.0   \n",
       "\n",
       "                 Communication Services  Consumer Discretionary  Utilities  \\\n",
       "Dates      Symb                                                              \n",
       "2015-02-02 A                        0.0                     0.0        0.0   \n",
       "           AAL                      0.0                     0.0        0.0   \n",
       "           AAP                      0.0                     1.0        0.0   \n",
       "           AAPL                     0.0                     0.0        0.0   \n",
       "           ABC                      0.0                     0.0        0.0   \n",
       "...                                 ...                     ...        ...   \n",
       "2018-12-31 XOM                      0.0                     0.0        0.0   \n",
       "           XRAY                     0.0                     0.0        0.0   \n",
       "           YUM                      0.0                     1.0        0.0   \n",
       "           ZBH                      0.0                     0.0        0.0   \n",
       "           ZBRA                     0.0                     0.0        0.0   \n",
       "\n",
       "                 Financials  Materials  Real Estate  Consumer Staples  ...  \\\n",
       "Dates      Symb                                                        ...   \n",
       "2015-02-02 A            0.0        0.0          0.0               0.0  ...   \n",
       "           AAL          0.0        0.0          0.0               0.0  ...   \n",
       "           AAP          0.0        0.0          0.0               0.0  ...   \n",
       "           AAPL         0.0        0.0          0.0               0.0  ...   \n",
       "           ABC          0.0        0.0          0.0               0.0  ...   \n",
       "...                     ...        ...          ...               ...  ...   \n",
       "2018-12-31 XOM          0.0        0.0          0.0               0.0  ...   \n",
       "           XRAY         0.0        0.0          0.0               0.0  ...   \n",
       "           YUM          0.0        0.0          0.0               0.0  ...   \n",
       "           ZBH          0.0        0.0          0.0               0.0  ...   \n",
       "           ZBRA         0.0        0.0          0.0               0.0  ...   \n",
       "\n",
       "                      MOM  Net Margin  Total Asset turnover  Return on Equity  \\\n",
       "Dates      Symb                                                                 \n",
       "2015-02-02 A    -1.236034    0.134744             -0.208028         -0.347873   \n",
       "           AAL   1.979888   -0.428377              0.380191          2.283966   \n",
       "           AAP   0.930309   -0.572432              0.696200          0.238881   \n",
       "           AAPL  1.764043    0.801074              0.108586          0.563021   \n",
       "           ABC   0.716376   -0.968581              4.809040         -0.507843   \n",
       "...                   ...         ...                   ...               ...   \n",
       "2018-12-31 XOM  -0.311411   -0.454882             -0.031549         -0.049209   \n",
       "           XRAY -2.730451   -3.043773             -0.672860         -0.073522   \n",
       "           YUM   0.379633    1.068999              0.221340         -0.075809   \n",
       "           ZBH  -0.330681   -1.430772             -0.733924         -0.060840   \n",
       "           ZBRA  2.455067   -0.273627              0.051662         -0.027386   \n",
       "\n",
       "                 DCF Prem   PE Prem    Growth     Price         PE        PB  \n",
       "Dates      Symb                                                               \n",
       "2015-02-02 A    -0.058286 -0.299186  0.001022 -0.351726   0.120856 -0.087552  \n",
       "           AAL  -0.059618 -0.502251  0.024046 -0.280541  -0.245544  0.189152  \n",
       "           AAP  -0.049277  0.687751  0.029013  0.639690  -0.050482 -0.033341  \n",
       "           AAPL -0.058588 -0.333656 -0.000812 -0.479493  -0.234812 -0.051599  \n",
       "           ABC  -0.057593 -3.725104  0.127249  0.036823  18.639466  0.048918  \n",
       "...                   ...       ...       ...       ...        ...       ...  \n",
       "2018-12-31 XOM  -0.052448 -0.096661  0.044628 -0.240195  -0.391390  0.021728  \n",
       "           XRAY -0.052380 -0.221149 -0.109644 -0.241371  -0.789366  0.025070  \n",
       "           YUM  -0.052424 -0.080303  0.038627 -0.197593  -0.170766 -0.025563  \n",
       "           ZBH  -0.052064 -0.648606 -0.234830 -0.009356  -0.789366  0.027703  \n",
       "           ZBRA -0.050229 -0.039433  0.003440 -0.043676  -0.115691  0.074083  \n",
       "\n",
       "[402288 rows x 22 columns]"
      ]
     },
     "execution_count": 13,
     "metadata": {},
     "output_type": "execute_result"
    }
   ],
   "source": [
    "Xtrain"
   ]
  },
  {
   "cell_type": "code",
   "execution_count": 14,
   "metadata": {},
   "outputs": [],
   "source": [
    "from sklearn.linear_model import LogisticRegression\n",
    "from sklearn.ensemble import RandomForestClassifier"
   ]
  },
  {
   "cell_type": "markdown",
   "metadata": {},
   "source": [
    "## Ensemble case ##"
   ]
  },
  {
   "cell_type": "code",
   "execution_count": 15,
   "metadata": {},
   "outputs": [],
   "source": [
    "clf1 = LogisticRegression(max_iter=5000,class_weight=\"balanced\").fit(Xtrain, Ytrain)\n",
    "clf = RandomForestClassifier(n_estimators=3000,max_depth=5).fit(Xtrain,Ytrain)\n",
    "Ypred_prob_train= 0.5*clf1.predict_proba(Xtrain) + 0.5*clf.predict_proba(Xtrain)\n",
    "#Ypred_prob_train=clf.predict_proba(Xtrain) #in-the-sample"
   ]
  },
  {
   "cell_type": "code",
   "execution_count": 16,
   "metadata": {},
   "outputs": [
    {
     "data": {
      "text/html": [
       "<div>\n",
       "<style scoped>\n",
       "    .dataframe tbody tr th:only-of-type {\n",
       "        vertical-align: middle;\n",
       "    }\n",
       "\n",
       "    .dataframe tbody tr th {\n",
       "        vertical-align: top;\n",
       "    }\n",
       "\n",
       "    .dataframe thead th {\n",
       "        text-align: right;\n",
       "    }\n",
       "</style>\n",
       "<table border=\"1\" class=\"dataframe\">\n",
       "  <thead>\n",
       "    <tr style=\"text-align: right;\">\n",
       "      <th></th>\n",
       "      <th>0</th>\n",
       "      <th>1</th>\n",
       "    </tr>\n",
       "  </thead>\n",
       "  <tbody>\n",
       "    <tr>\n",
       "      <th>0</th>\n",
       "      <td>Industrials</td>\n",
       "      <td>-0.0100572</td>\n",
       "    </tr>\n",
       "    <tr>\n",
       "      <th>1</th>\n",
       "      <td>Health Care</td>\n",
       "      <td>0.0112117</td>\n",
       "    </tr>\n",
       "    <tr>\n",
       "      <th>2</th>\n",
       "      <td>Information Technology</td>\n",
       "      <td>0.0509338</td>\n",
       "    </tr>\n",
       "    <tr>\n",
       "      <th>3</th>\n",
       "      <td>Communication Services</td>\n",
       "      <td>-0.0119013</td>\n",
       "    </tr>\n",
       "    <tr>\n",
       "      <th>4</th>\n",
       "      <td>Consumer Discretionary</td>\n",
       "      <td>-0.00842105</td>\n",
       "    </tr>\n",
       "    <tr>\n",
       "      <th>5</th>\n",
       "      <td>Utilities</td>\n",
       "      <td>0.0376619</td>\n",
       "    </tr>\n",
       "    <tr>\n",
       "      <th>6</th>\n",
       "      <td>Financials</td>\n",
       "      <td>-0.00245841</td>\n",
       "    </tr>\n",
       "    <tr>\n",
       "      <th>7</th>\n",
       "      <td>Materials</td>\n",
       "      <td>-0.0329931</td>\n",
       "    </tr>\n",
       "    <tr>\n",
       "      <th>8</th>\n",
       "      <td>Real Estate</td>\n",
       "      <td>0.0533938</td>\n",
       "    </tr>\n",
       "    <tr>\n",
       "      <th>9</th>\n",
       "      <td>Consumer Staples</td>\n",
       "      <td>-0.0173389</td>\n",
       "    </tr>\n",
       "    <tr>\n",
       "      <th>10</th>\n",
       "      <td>Energy</td>\n",
       "      <td>-0.075771</td>\n",
       "    </tr>\n",
       "    <tr>\n",
       "      <th>11</th>\n",
       "      <td>MR</td>\n",
       "      <td>0.00808578</td>\n",
       "    </tr>\n",
       "    <tr>\n",
       "      <th>12</th>\n",
       "      <td>MOM</td>\n",
       "      <td>0.0199604</td>\n",
       "    </tr>\n",
       "    <tr>\n",
       "      <th>13</th>\n",
       "      <td>Net Margin</td>\n",
       "      <td>-0.00209877</td>\n",
       "    </tr>\n",
       "    <tr>\n",
       "      <th>14</th>\n",
       "      <td>Total Asset turnover</td>\n",
       "      <td>0.00964626</td>\n",
       "    </tr>\n",
       "    <tr>\n",
       "      <th>15</th>\n",
       "      <td>Return on Equity</td>\n",
       "      <td>-0.00304931</td>\n",
       "    </tr>\n",
       "    <tr>\n",
       "      <th>16</th>\n",
       "      <td>DCF Prem</td>\n",
       "      <td>0.00174379</td>\n",
       "    </tr>\n",
       "    <tr>\n",
       "      <th>17</th>\n",
       "      <td>PE Prem</td>\n",
       "      <td>0.00608354</td>\n",
       "    </tr>\n",
       "    <tr>\n",
       "      <th>18</th>\n",
       "      <td>Growth</td>\n",
       "      <td>-0.0018869</td>\n",
       "    </tr>\n",
       "    <tr>\n",
       "      <th>19</th>\n",
       "      <td>Price</td>\n",
       "      <td>-0.00209674</td>\n",
       "    </tr>\n",
       "    <tr>\n",
       "      <th>20</th>\n",
       "      <td>PE</td>\n",
       "      <td>0.00493863</td>\n",
       "    </tr>\n",
       "    <tr>\n",
       "      <th>21</th>\n",
       "      <td>PB</td>\n",
       "      <td>-0.001908</td>\n",
       "    </tr>\n",
       "  </tbody>\n",
       "</table>\n",
       "</div>"
      ],
      "text/plain": [
       "                         0           1\n",
       "0              Industrials  -0.0100572\n",
       "1              Health Care   0.0112117\n",
       "2   Information Technology   0.0509338\n",
       "3   Communication Services  -0.0119013\n",
       "4   Consumer Discretionary -0.00842105\n",
       "5                Utilities   0.0376619\n",
       "6               Financials -0.00245841\n",
       "7                Materials  -0.0329931\n",
       "8              Real Estate   0.0533938\n",
       "9         Consumer Staples  -0.0173389\n",
       "10                  Energy   -0.075771\n",
       "11                      MR  0.00808578\n",
       "12                     MOM   0.0199604\n",
       "13              Net Margin -0.00209877\n",
       "14    Total Asset turnover  0.00964626\n",
       "15        Return on Equity -0.00304931\n",
       "16                DCF Prem  0.00174379\n",
       "17                 PE Prem  0.00608354\n",
       "18                  Growth  -0.0018869\n",
       "19                   Price -0.00209674\n",
       "20                      PE  0.00493863\n",
       "21                      PB   -0.001908"
      ]
     },
     "execution_count": 16,
     "metadata": {},
     "output_type": "execute_result"
    }
   ],
   "source": [
    "coef=pd.DataFrame([Xtrain.columns.values,clf1.coef_[0]]).T\n",
    "coef"
   ]
  },
  {
   "cell_type": "markdown",
   "metadata": {},
   "source": [
    "The coefficients for logistic model is not consistent with the weights given by Linear Moedel."
   ]
  },
  {
   "cell_type": "code",
   "execution_count": 17,
   "metadata": {},
   "outputs": [],
   "source": [
    "#coef[\"Linear\"]=[0]*11+list(opt_results.x)\n",
    "#coef"
   ]
  },
  {
   "cell_type": "code",
   "execution_count": 18,
   "metadata": {},
   "outputs": [
    {
     "name": "stdout",
     "output_type": "stream",
     "text": [
      "my confusion matrix\n",
      "        0       1\n",
      "0  106329   94838\n",
      "1  100832  100289\n",
      "Accuracy: 0.513607167004733\n"
     ]
    }
   ],
   "source": [
    "from sklearn.metrics import confusion_matrix\n",
    "threshold=.5\n",
    "\n",
    "Ypred_train=pd.Series(Ypred_prob_train[:,0]<threshold)\n",
    "\n",
    "Ypred_train.index=Ytrain.index\n",
    "\n",
    "ActualNeg=sum(Ytrain==0)\n",
    "ActualPos=sum(Ytrain==1)\n",
    "\n",
    "TN=sum((Ytrain==0)&(Ypred_train==False))\n",
    "FP=sum((Ytrain==0)&(Ypred_train==True))\n",
    "TP=sum((Ytrain==1)&(Ypred_train==True))\n",
    "FN=sum((Ytrain==1)&(Ypred_train==False))\n",
    "\n",
    "d=pd.DataFrame(np.matrix([[TN,FP],[FN,TP]]))\n",
    "print(\"my confusion matrix\")\n",
    "print(d)\n",
    "FPR = FP/(FP+TN)\n",
    "TPR = TP/(TP+FN)\n",
    "print(\"Accuracy:\", (TP+TN)/(TN+FP+TP+FN))"
   ]
  },
  {
   "cell_type": "code",
   "execution_count": 19,
   "metadata": {},
   "outputs": [
    {
     "data": {
      "text/plain": [
       "(195127, 207161)"
      ]
     },
     "execution_count": 19,
     "metadata": {},
     "output_type": "execute_result"
    }
   ],
   "source": [
    "TP+FP,FN+TN"
   ]
  },
  {
   "cell_type": "code",
   "execution_count": 20,
   "metadata": {},
   "outputs": [
    {
     "data": {
      "image/png": "[encoded data removed]",
      "text/plain": [
       "<Figure size 432x288 with 1 Axes>"
      ]
     },
     "metadata": {
      "needs_background": "light"
     },
     "output_type": "display_data"
    }
   ],
   "source": [
    "from sklearn import metrics\n",
    "fpr, tpr, thresholds = metrics.roc_curve(list(Ytrain), list(Ypred_prob_train[:,1]))\n",
    "import matplotlib.pyplot as plt\n",
    "%matplotlib inline\n",
    "lineStart,lineEnd=0,1\n",
    "\n",
    "plt.figure()\n",
    "plt.plot(fpr,tpr)\n",
    "plt.title('ROC Curve')\n",
    "plt.xlabel('False Positive Rate')\n",
    "plt.ylabel('True Positive Rate')\n",
    "plt.plot([lineStart, lineEnd], [lineStart, lineEnd], 'k-', color = 'r')\n",
    "plt.xlim(lineStart, lineEnd)\n",
    "plt.ylim(lineStart, lineEnd)\n",
    "plt.show()"
   ]
  },
  {
   "cell_type": "markdown",
   "metadata": {},
   "source": [
    "### Out-of-Sample"
   ]
  },
  {
   "cell_type": "code",
   "execution_count": 21,
   "metadata": {},
   "outputs": [
    {
     "name": "stdout",
     "output_type": "stream",
     "text": [
      "my confusion matrix\n",
      "       0      1\n",
      "0  49941  53083\n",
      "1  48085  54931\n",
      "Accuracy: 0.5089885459134149\n"
     ]
    }
   ],
   "source": [
    "#Ypred_prob=clf.predict_proba(Xtest) #out-of-sample\n",
    "Ypred_prob = 0.5*clf1.predict_proba(Xtest) + 0.5*clf.predict_proba(Xtest)\n",
    "threshold=.5\n",
    "\n",
    "Ypred=pd.Series(Ypred_prob[:,0]<threshold)\n",
    "\n",
    "Ypred.index=Ytest.index\n",
    "\n",
    "ActualNeg=sum(Ytest==0)\n",
    "ActualPos=sum(Ytest==1)\n",
    "\n",
    "TN=sum((Ytest==0)&(Ypred==False))\n",
    "FP=sum((Ytest==0)&(Ypred==True))\n",
    "TP=sum((Ytest==1)&(Ypred==True))\n",
    "FN=sum((Ytest==1)&(Ypred==False))\n",
    "\n",
    "d=pd.DataFrame(np.matrix([[TN,FP],[FN,TP]]))\n",
    "print(\"my confusion matrix\")\n",
    "print(d)\n",
    "FPR = FP/(FP+TN)\n",
    "TPR = TP/(TP+FN)\n",
    "print(\"Accuracy:\", (TP+TN)/(TN+FP+TP+FN))"
   ]
  },
  {
   "cell_type": "code",
   "execution_count": 22,
   "metadata": {},
   "outputs": [
    {
     "data": {
      "image/png": "[encoded data removed]",
      "text/plain": [
       "<Figure size 432x288 with 1 Axes>"
      ]
     },
     "metadata": {
      "needs_background": "light"
     },
     "output_type": "display_data"
    }
   ],
   "source": [
    "from sklearn import metrics\n",
    "fpr, tpr, thresholds = metrics.roc_curve(list(Ytest), list(Ypred_prob[:,1]))\n",
    "import matplotlib.pyplot as plt\n",
    "%matplotlib inline\n",
    "lineStart,lineEnd=0,1\n",
    "\n",
    "plt.figure()\n",
    "plt.plot(fpr,tpr)\n",
    "plt.title('ROC Curve')\n",
    "plt.xlabel('False Positive Rate')\n",
    "plt.ylabel('True Positive Rate')\n",
    "plt.plot([lineStart, lineEnd], [lineStart, lineEnd], 'k-', color = 'r')\n",
    "plt.xlim(lineStart, lineEnd)\n",
    "plt.ylim(lineStart, lineEnd)\n",
    "plt.show()"
   ]
  },
  {
   "cell_type": "markdown",
   "metadata": {},
   "source": [
    "#### In Sample Sharpe Ratio"
   ]
  },
  {
   "cell_type": "code",
   "execution_count": 23,
   "metadata": {},
   "outputs": [
    {
     "data": {
      "text/plain": [
       "(16.507334335588432, 14.728364429959667, 1.1207852992834748)"
      ]
     },
     "execution_count": 23,
     "metadata": {},
     "output_type": "execute_result"
    }
   ],
   "source": [
    "position=Ypred_train*(1)\n",
    "position.loc[position==0]=position.loc[position==0]-1\n",
    "rtn_ml=(position*longdata[\"Return\"]).groupby(level=0).sum().loc[:\"2019-01-01\"]\n",
    "rtn_mean_ml=rtn_ml.mean() * 252 \n",
    "rtn_std_ml = rtn_ml.std() * 252**0.5\n",
    "SR_ml = rtn_mean_ml / rtn_std_ml\n",
    "(rtn_mean_ml,rtn_std_ml,SR_ml)"
   ]
  },
  {
   "cell_type": "code",
   "execution_count": 24,
   "metadata": {},
   "outputs": [
    {
     "data": {
      "text/plain": [
       "Dates\n",
       "2015-02-02   -1.926688\n",
       "2015-02-03   -1.351084\n",
       "2015-02-04    0.815085\n",
       "2015-02-05   -0.583287\n",
       "2015-02-06   -2.110116\n",
       "                ...   \n",
       "2018-12-24   -1.020323\n",
       "2018-12-26    0.867769\n",
       "2018-12-27    0.108280\n",
       "2018-12-28    0.744842\n",
       "2018-12-31    0.451253\n",
       "Length: 986, dtype: float64"
      ]
     },
     "execution_count": 24,
     "metadata": {},
     "output_type": "execute_result"
    }
   ],
   "source": [
    "rtn_ml"
   ]
  },
  {
   "cell_type": "markdown",
   "metadata": {},
   "source": [
    "#### Out of Sample Sharpe Ratio"
   ]
  },
  {
   "cell_type": "code",
   "execution_count": 25,
   "metadata": {},
   "outputs": [
    {
     "data": {
      "text/plain": [
       "Dates       Symb\n",
       "2019-01-02  A      -1\n",
       "            AAL    -1\n",
       "            AAP     1\n",
       "            AAPL    1\n",
       "            ABC     1\n",
       "                   ..\n",
       "2020-12-31  XOM    -1\n",
       "            XRAY   -1\n",
       "            YUM    -1\n",
       "            ZBH    -1\n",
       "            ZBRA    1\n",
       "Length: 206040, dtype: int64"
      ]
     },
     "execution_count": 25,
     "metadata": {},
     "output_type": "execute_result"
    }
   ],
   "source": [
    "position=Ypred*(1)\n",
    "position.loc[position==0]=position.loc[position==0]-1\n",
    "position"
   ]
  },
  {
   "cell_type": "code",
   "execution_count": 26,
   "metadata": {},
   "outputs": [
    {
     "data": {
      "text/plain": [
       "Dates\n",
       "2019-01-02    0.053922\n",
       "2019-01-03    0.068627\n",
       "2019-01-04    0.058824\n",
       "2019-01-07    0.063725\n",
       "2019-01-08    0.058824\n",
       "                ...   \n",
       "2020-12-24   -0.024510\n",
       "2020-12-28   -0.024510\n",
       "2020-12-29   -0.044118\n",
       "2020-12-30   -0.053922\n",
       "2020-12-31   -0.073529\n",
       "Length: 505, dtype: float64"
      ]
     },
     "execution_count": 26,
     "metadata": {},
     "output_type": "execute_result"
    }
   ],
   "source": [
    "#Almost market neutral\n",
    "position.groupby(level=0).mean()"
   ]
  },
  {
   "cell_type": "code",
   "execution_count": 27,
   "metadata": {},
   "outputs": [
    {
     "data": {
      "text/plain": [
       "(13.453121620375441, 28.469280418195375, 0.47254870592996234)"
      ]
     },
     "execution_count": 27,
     "metadata": {},
     "output_type": "execute_result"
    }
   ],
   "source": [
    "rtn_ml=(position*longdata[\"Return\"]).groupby(level=0).sum().loc[\"2019-01-01\":]\n",
    "rtn_mean_ml=rtn_ml.mean() * 252 \n",
    "rtn_std_ml = rtn_ml.std() * 252**0.5\n",
    "SR_ml = rtn_mean_ml / rtn_std_ml\n",
    "(rtn_mean_ml,rtn_std_ml,SR_ml)"
   ]
  },
  {
   "cell_type": "code",
   "execution_count": 28,
   "metadata": {},
   "outputs": [
    {
     "data": {
      "text/plain": [
       "Index(['Industrials', 'Health Care', 'Information Technology',\n",
       "       'Communication Services', 'Consumer Discretionary', 'Utilities',\n",
       "       'Financials', 'Materials', 'Real Estate', 'Consumer Staples', 'Energy',\n",
       "       'MR', 'MOM', 'Net Margin', 'Total Asset turnover', 'Return on Equity',\n",
       "       'DCF Prem', 'PE Prem', 'Growth', 'Price', 'PE', 'PB', 'Return',\n",
       "       'Excess Return'],\n",
       "      dtype='object')"
      ]
     },
     "execution_count": 28,
     "metadata": {},
     "output_type": "execute_result"
    }
   ],
   "source": [
    "longdata.columns"
   ]
  },
  {
   "cell_type": "markdown",
   "metadata": {},
   "source": [
    "## Only Random Forest ##"
   ]
  },
  {
   "cell_type": "code",
   "execution_count": 29,
   "metadata": {},
   "outputs": [],
   "source": [
    "Ypred_prob_train= 0.0*clf1.predict_proba(Xtrain) + 1*clf.predict_proba(Xtrain)"
   ]
  },
  {
   "cell_type": "markdown",
   "metadata": {},
   "source": [
    "## Feature importance ##"
   ]
  },
  {
   "cell_type": "code",
   "execution_count": 30,
   "metadata": {},
   "outputs": [
    {
     "data": {
      "text/html": [
       "<div>\n",
       "<style scoped>\n",
       "    .dataframe tbody tr th:only-of-type {\n",
       "        vertical-align: middle;\n",
       "    }\n",
       "\n",
       "    .dataframe tbody tr th {\n",
       "        vertical-align: top;\n",
       "    }\n",
       "\n",
       "    .dataframe thead th {\n",
       "        text-align: right;\n",
       "    }\n",
       "</style>\n",
       "<table border=\"1\" class=\"dataframe\">\n",
       "  <thead>\n",
       "    <tr style=\"text-align: right;\">\n",
       "      <th></th>\n",
       "      <th>importance</th>\n",
       "    </tr>\n",
       "  </thead>\n",
       "  <tbody>\n",
       "    <tr>\n",
       "      <th>MOM</th>\n",
       "      <td>0.1920</td>\n",
       "    </tr>\n",
       "    <tr>\n",
       "      <th>MR</th>\n",
       "      <td>0.1250</td>\n",
       "    </tr>\n",
       "    <tr>\n",
       "      <th>PB</th>\n",
       "      <td>0.0794</td>\n",
       "    </tr>\n",
       "    <tr>\n",
       "      <th>PE</th>\n",
       "      <td>0.0781</td>\n",
       "    </tr>\n",
       "    <tr>\n",
       "      <th>Net Margin</th>\n",
       "      <td>0.0711</td>\n",
       "    </tr>\n",
       "    <tr>\n",
       "      <th>Total Asset turnover</th>\n",
       "      <td>0.0703</td>\n",
       "    </tr>\n",
       "    <tr>\n",
       "      <th>Return on Equity</th>\n",
       "      <td>0.0651</td>\n",
       "    </tr>\n",
       "    <tr>\n",
       "      <th>Growth</th>\n",
       "      <td>0.0621</td>\n",
       "    </tr>\n",
       "    <tr>\n",
       "      <th>DCF Prem</th>\n",
       "      <td>0.0547</td>\n",
       "    </tr>\n",
       "    <tr>\n",
       "      <th>PE Prem</th>\n",
       "      <td>0.0521</td>\n",
       "    </tr>\n",
       "    <tr>\n",
       "      <th>Price</th>\n",
       "      <td>0.0431</td>\n",
       "    </tr>\n",
       "    <tr>\n",
       "      <th>Information Technology</th>\n",
       "      <td>0.0392</td>\n",
       "    </tr>\n",
       "    <tr>\n",
       "      <th>Energy</th>\n",
       "      <td>0.0317</td>\n",
       "    </tr>\n",
       "    <tr>\n",
       "      <th>Real Estate</th>\n",
       "      <td>0.0088</td>\n",
       "    </tr>\n",
       "    <tr>\n",
       "      <th>Utilities</th>\n",
       "      <td>0.0078</td>\n",
       "    </tr>\n",
       "    <tr>\n",
       "      <th>Materials</th>\n",
       "      <td>0.0052</td>\n",
       "    </tr>\n",
       "    <tr>\n",
       "      <th>Financials</th>\n",
       "      <td>0.0033</td>\n",
       "    </tr>\n",
       "    <tr>\n",
       "      <th>Industrials</th>\n",
       "      <td>0.0030</td>\n",
       "    </tr>\n",
       "    <tr>\n",
       "      <th>Consumer Staples</th>\n",
       "      <td>0.0025</td>\n",
       "    </tr>\n",
       "    <tr>\n",
       "      <th>Health Care</th>\n",
       "      <td>0.0022</td>\n",
       "    </tr>\n",
       "    <tr>\n",
       "      <th>Communication Services</th>\n",
       "      <td>0.0016</td>\n",
       "    </tr>\n",
       "    <tr>\n",
       "      <th>Consumer Discretionary</th>\n",
       "      <td>0.0015</td>\n",
       "    </tr>\n",
       "  </tbody>\n",
       "</table>\n",
       "</div>"
      ],
      "text/plain": [
       "                        importance\n",
       "MOM                         0.1920\n",
       "MR                          0.1250\n",
       "PB                          0.0794\n",
       "PE                          0.0781\n",
       "Net Margin                  0.0711\n",
       "Total Asset turnover        0.0703\n",
       "Return on Equity            0.0651\n",
       "Growth                      0.0621\n",
       "DCF Prem                    0.0547\n",
       "PE Prem                     0.0521\n",
       "Price                       0.0431\n",
       "Information Technology      0.0392\n",
       "Energy                      0.0317\n",
       "Real Estate                 0.0088\n",
       "Utilities                   0.0078\n",
       "Materials                   0.0052\n",
       "Financials                  0.0033\n",
       "Industrials                 0.0030\n",
       "Consumer Staples            0.0025\n",
       "Health Care                 0.0022\n",
       "Communication Services      0.0016\n",
       "Consumer Discretionary      0.0015"
      ]
     },
     "execution_count": 30,
     "metadata": {},
     "output_type": "execute_result"
    }
   ],
   "source": [
    "import numpy as np\n",
    "from collections import OrderedDict\n",
    "importance_dict = {}\n",
    "importances = clf.feature_importances_\n",
    "\n",
    "for f in range(Xtrain.shape[1]):\n",
    "     importance_dict[Xtrain.columns[f]] = round(importances[f],4)\n",
    "\n",
    "importance_dict_sorted =OrderedDict(sorted(importance_dict.items(), key=lambda item: item[1],reverse=True))  \n",
    "feature_imp =pd.DataFrame(list(importance_dict_sorted.values()),list(importance_dict_sorted.keys()))\n",
    "\n",
    "feature_imp.columns = [\"importance\"]\n",
    "feature_imp"
   ]
  },
  {
   "cell_type": "code",
   "execution_count": 31,
   "metadata": {},
   "outputs": [
    {
     "name": "stdout",
     "output_type": "stream",
     "text": [
      "my confusion matrix\n",
      "        0      1\n",
      "0  120874  80293\n",
      "1  113292  87829\n",
      "Accuracy: 0.5187900210794257\n"
     ]
    }
   ],
   "source": [
    "from sklearn.metrics import confusion_matrix\n",
    "threshold=.5\n",
    "\n",
    "Ypred_train=pd.Series(Ypred_prob_train[:,0]<threshold)\n",
    "\n",
    "Ypred_train.index=Ytrain.index\n",
    "\n",
    "ActualNeg=sum(Ytrain==0)\n",
    "ActualPos=sum(Ytrain==1)\n",
    "\n",
    "TN=sum((Ytrain==0)&(Ypred_train==False))\n",
    "FP=sum((Ytrain==0)&(Ypred_train==True))\n",
    "TP=sum((Ytrain==1)&(Ypred_train==True))\n",
    "FN=sum((Ytrain==1)&(Ypred_train==False))\n",
    "\n",
    "d=pd.DataFrame(np.matrix([[TN,FP],[FN,TP]]))\n",
    "print(\"my confusion matrix\")\n",
    "print(d)\n",
    "FPR = FP/(FP+TN)\n",
    "TPR = TP/(TP+FN)\n",
    "print(\"Accuracy:\", (TP+TN)/(TN+FP+TP+FN))"
   ]
  },
  {
   "cell_type": "code",
   "execution_count": 32,
   "metadata": {},
   "outputs": [
    {
     "data": {
      "image/png": "[encoded data removed]",
      "text/plain": [
       "<Figure size 432x288 with 1 Axes>"
      ]
     },
     "metadata": {
      "needs_background": "light"
     },
     "output_type": "display_data"
    }
   ],
   "source": [
    "from sklearn import metrics\n",
    "fpr, tpr, thresholds = metrics.roc_curve(list(Ytrain), list(Ypred_prob_train[:,1]))\n",
    "import matplotlib.pyplot as plt\n",
    "%matplotlib inline\n",
    "lineStart,lineEnd=0,1\n",
    "\n",
    "plt.figure()\n",
    "plt.plot(fpr,tpr)\n",
    "plt.title('ROC Curve')\n",
    "plt.xlabel('False Positive Rate')\n",
    "plt.ylabel('True Positive Rate')\n",
    "plt.plot([lineStart, lineEnd], [lineStart, lineEnd], 'k-', color = 'r')\n",
    "plt.xlim(lineStart, lineEnd)\n",
    "plt.ylim(lineStart, lineEnd)\n",
    "plt.show()"
   ]
  },
  {
   "cell_type": "code",
   "execution_count": 33,
   "metadata": {},
   "outputs": [
    {
     "name": "stdout",
     "output_type": "stream",
     "text": [
      "my confusion matrix\n",
      "       0      1\n",
      "0  52492  50532\n",
      "1  50482  52534\n",
      "Accuracy: 0.5097359735973598\n"
     ]
    }
   ],
   "source": [
    "#Ypred_prob=clf.predict_proba(Xtest) #out-of-sample\n",
    "Ypred_prob = 0.0*clf1.predict_proba(Xtest) + 1*clf.predict_proba(Xtest)\n",
    "threshold=.5\n",
    "\n",
    "Ypred=pd.Series(Ypred_prob[:,0]<threshold)\n",
    "\n",
    "Ypred.index=Ytest.index\n",
    "\n",
    "ActualNeg=sum(Ytest==0)\n",
    "ActualPos=sum(Ytest==1)\n",
    "\n",
    "TN=sum((Ytest==0)&(Ypred==False))\n",
    "FP=sum((Ytest==0)&(Ypred==True))\n",
    "TP=sum((Ytest==1)&(Ypred==True))\n",
    "FN=sum((Ytest==1)&(Ypred==False))\n",
    "\n",
    "d=pd.DataFrame(np.matrix([[TN,FP],[FN,TP]]))\n",
    "print(\"my confusion matrix\")\n",
    "print(d)\n",
    "FPR = FP/(FP+TN)\n",
    "TPR = TP/(TP+FN)\n",
    "print(\"Accuracy:\", (TP+TN)/(TN+FP+TP+FN))"
   ]
  },
  {
   "cell_type": "code",
   "execution_count": 34,
   "metadata": {},
   "outputs": [
    {
     "data": {
      "image/png": "[encoded data removed]",
      "text/plain": [
       "<Figure size 432x288 with 1 Axes>"
      ]
     },
     "metadata": {
      "needs_background": "light"
     },
     "output_type": "display_data"
    }
   ],
   "source": [
    "from sklearn import metrics\n",
    "fpr, tpr, thresholds = metrics.roc_curve(list(Ytest), list(Ypred_prob[:,1]))\n",
    "\n",
    "lineStart,lineEnd=0,1\n",
    "\n",
    "plt.figure()\n",
    "plt.plot(fpr,tpr)\n",
    "plt.title('ROC Curve')\n",
    "plt.xlabel('False Positive Rate')\n",
    "plt.ylabel('True Positive Rate')\n",
    "plt.plot([lineStart, lineEnd], [lineStart, lineEnd], 'k-', color = 'r')\n",
    "plt.xlim(lineStart, lineEnd)\n",
    "plt.ylim(lineStart, lineEnd)\n",
    "plt.show()"
   ]
  },
  {
   "cell_type": "markdown",
   "metadata": {},
   "source": [
    "## In sample sharpe-ratio ##"
   ]
  },
  {
   "cell_type": "code",
   "execution_count": 35,
   "metadata": {},
   "outputs": [
    {
     "data": {
      "text/plain": [
       "(22.531475494437785, 16.3403753482438, 1.37888359442486)"
      ]
     },
     "execution_count": 35,
     "metadata": {},
     "output_type": "execute_result"
    }
   ],
   "source": [
    "position=Ypred_train*(1)\n",
    "position.loc[position==0]=position.loc[position==0]-1\n",
    "rtn_ml=(position*longdata[\"Return\"]).groupby(level=0).sum().loc[:\"2019-01-01\"]\n",
    "rtn_mean_ml=rtn_ml.mean() * 252 \n",
    "rtn_std_ml = rtn_ml.std() * 252**0.5\n",
    "SR_ml = rtn_mean_ml / rtn_std_ml\n",
    "(rtn_mean_ml,rtn_std_ml,SR_ml)"
   ]
  },
  {
   "cell_type": "code",
   "execution_count": 36,
   "metadata": {},
   "outputs": [
    {
     "data": {
      "text/plain": [
       "Dates       Symb\n",
       "2019-01-02  A      -1\n",
       "            AAL    -1\n",
       "            AAP     1\n",
       "            AAPL    1\n",
       "            ABC    -1\n",
       "                   ..\n",
       "2020-12-31  XOM    -1\n",
       "            XRAY   -1\n",
       "            YUM    -1\n",
       "            ZBH    -1\n",
       "            ZBRA    1\n",
       "Length: 206040, dtype: int64"
      ]
     },
     "execution_count": 36,
     "metadata": {},
     "output_type": "execute_result"
    }
   ],
   "source": [
    "position=Ypred*(1)\n",
    "position.loc[position==0]=position.loc[position==0]-1\n",
    "position"
   ]
  },
  {
   "cell_type": "markdown",
   "metadata": {},
   "source": [
    "## Out of sample Sharpe ratio ##"
   ]
  },
  {
   "cell_type": "code",
   "execution_count": 37,
   "metadata": {},
   "outputs": [
    {
     "data": {
      "text/plain": [
       "(9.24030944635122, 31.687071688514557, 0.29161134033412456)"
      ]
     },
     "execution_count": 37,
     "metadata": {},
     "output_type": "execute_result"
    }
   ],
   "source": [
    "rtn_ml=(position*longdata[\"Return\"]).groupby(level=0).sum().loc[\"2019-01-01\":]\n",
    "rtn_mean_ml=rtn_ml.mean() * 252 \n",
    "rtn_std_ml = rtn_ml.std() * 252**0.5\n",
    "SR_ml = rtn_mean_ml / rtn_std_ml\n",
    "(rtn_mean_ml,rtn_std_ml,SR_ml)"
   ]
  },
  {
   "cell_type": "markdown",
   "metadata": {},
   "source": [
    "## Only logistic regression ##"
   ]
  },
  {
   "cell_type": "code",
   "execution_count": 38,
   "metadata": {},
   "outputs": [],
   "source": [
    "Ypred_prob_train= 1*clf1.predict_proba(Xtrain) + 0.0*clf.predict_proba(Xtrain)"
   ]
  },
  {
   "cell_type": "code",
   "execution_count": 39,
   "metadata": {},
   "outputs": [
    {
     "name": "stdout",
     "output_type": "stream",
     "text": [
      "my confusion matrix\n",
      "        0      1\n",
      "0  105386  95781\n",
      "1  101763  99358\n",
      "Accuracy: 0.5089488127908364\n"
     ]
    }
   ],
   "source": [
    "from sklearn.metrics import confusion_matrix\n",
    "threshold=.5\n",
    "\n",
    "Ypred_train=pd.Series(Ypred_prob_train[:,0]<threshold)\n",
    "\n",
    "Ypred_train.index=Ytrain.index\n",
    "\n",
    "ActualNeg=sum(Ytrain==0)\n",
    "ActualPos=sum(Ytrain==1)\n",
    "\n",
    "TN=sum((Ytrain==0)&(Ypred_train==False))\n",
    "FP=sum((Ytrain==0)&(Ypred_train==True))\n",
    "TP=sum((Ytrain==1)&(Ypred_train==True))\n",
    "FN=sum((Ytrain==1)&(Ypred_train==False))\n",
    "\n",
    "d=pd.DataFrame(np.matrix([[TN,FP],[FN,TP]]))\n",
    "print(\"my confusion matrix\")\n",
    "print(d)\n",
    "FPR = FP/(FP+TN)\n",
    "TPR = TP/(TP+FN)\n",
    "print(\"Accuracy:\", (TP+TN)/(TN+FP+TP+FN))"
   ]
  },
  {
   "cell_type": "code",
   "execution_count": 40,
   "metadata": {},
   "outputs": [
    {
     "data": {
      "image/png": "[encoded data removed]",
      "text/plain": [
       "<Figure size 432x288 with 1 Axes>"
      ]
     },
     "metadata": {
      "needs_background": "light"
     },
     "output_type": "display_data"
    }
   ],
   "source": [
    "from sklearn import metrics\n",
    "fpr, tpr, thresholds = metrics.roc_curve(list(Ytrain), list(Ypred_prob_train[:,1]))\n",
    "import matplotlib.pyplot as plt\n",
    "%matplotlib inline\n",
    "lineStart,lineEnd=0,1\n",
    "\n",
    "plt.figure()\n",
    "plt.plot(fpr,tpr)\n",
    "plt.title('ROC Curve')\n",
    "plt.xlabel('False Positive Rate')\n",
    "plt.ylabel('True Positive Rate')\n",
    "plt.plot([lineStart, lineEnd], [lineStart, lineEnd], 'k-', color = 'r')\n",
    "plt.xlim(lineStart, lineEnd)\n",
    "plt.ylim(lineStart, lineEnd)\n",
    "plt.show()"
   ]
  },
  {
   "cell_type": "code",
   "execution_count": 41,
   "metadata": {},
   "outputs": [
    {
     "name": "stdout",
     "output_type": "stream",
     "text": [
      "my confusion matrix\n",
      "       0      1\n",
      "0  52867  50157\n",
      "1  51558  51458\n",
      "Accuracy: 0.5063337216074548\n"
     ]
    }
   ],
   "source": [
    "#Ypred_prob=clf.predict_proba(Xtest) #out-of-sample\n",
    "Ypred_prob = 1.0*clf1.predict_proba(Xtest) + 0.0*clf.predict_proba(Xtest)\n",
    "threshold=.5\n",
    "\n",
    "Ypred=pd.Series(Ypred_prob[:,0]<threshold)\n",
    "\n",
    "Ypred.index=Ytest.index\n",
    "\n",
    "ActualNeg=sum(Ytest==0)\n",
    "ActualPos=sum(Ytest==1)\n",
    "\n",
    "TN=sum((Ytest==0)&(Ypred==False))\n",
    "FP=sum((Ytest==0)&(Ypred==True))\n",
    "TP=sum((Ytest==1)&(Ypred==True))\n",
    "FN=sum((Ytest==1)&(Ypred==False))\n",
    "\n",
    "d=pd.DataFrame(np.matrix([[TN,FP],[FN,TP]]))\n",
    "print(\"my confusion matrix\")\n",
    "print(d)\n",
    "FPR = FP/(FP+TN)\n",
    "TPR = TP/(TP+FN)\n",
    "print(\"Accuracy:\", (TP+TN)/(TN+FP+TP+FN))\n"
   ]
  },
  {
   "cell_type": "code",
   "execution_count": 42,
   "metadata": {},
   "outputs": [
    {
     "data": {
      "image/png": "[encoded data removed]",
      "text/plain": [
       "<Figure size 432x288 with 1 Axes>"
      ]
     },
     "metadata": {
      "needs_background": "light"
     },
     "output_type": "display_data"
    }
   ],
   "source": [
    "from sklearn import metrics\n",
    "fpr, tpr, thresholds = metrics.roc_curve(list(Ytest), list(Ypred_prob[:,1]))\n",
    "import matplotlib.pyplot as plt\n",
    "%matplotlib inline\n",
    "lineStart,lineEnd=0,1\n",
    "\n",
    "plt.figure()\n",
    "plt.plot(fpr,tpr)\n",
    "plt.title('ROC Curve')\n",
    "plt.xlabel('False Positive Rate')\n",
    "plt.ylabel('True Positive Rate')\n",
    "plt.plot([lineStart, lineEnd], [lineStart, lineEnd], 'k-', color = 'r')\n",
    "plt.xlim(lineStart, lineEnd)\n",
    "plt.ylim(lineStart, lineEnd)\n",
    "plt.show()"
   ]
  },
  {
   "cell_type": "markdown",
   "metadata": {},
   "source": [
    "## In sample sharpe ratio ##"
   ]
  },
  {
   "cell_type": "code",
   "execution_count": 43,
   "metadata": {},
   "outputs": [
    {
     "data": {
      "text/plain": [
       "(8.447546116926022, 14.280069857295105, 0.5915619602246214)"
      ]
     },
     "execution_count": 43,
     "metadata": {},
     "output_type": "execute_result"
    }
   ],
   "source": [
    "position=Ypred_train*(1)\n",
    "position.loc[position==0]=position.loc[position==0]-1\n",
    "rtn_ml=(position*longdata[\"Return\"]).groupby(level=0).sum().loc[:\"2019-01-01\"]\n",
    "rtn_mean_ml=rtn_ml.mean() * 252 \n",
    "rtn_std_ml = rtn_ml.std() * 252**0.5\n",
    "SR_ml = rtn_mean_ml / rtn_std_ml\n",
    "(rtn_mean_ml,rtn_std_ml,SR_ml)"
   ]
  },
  {
   "cell_type": "markdown",
   "metadata": {},
   "source": [
    "## Out of sample sharpe ratio ##"
   ]
  },
  {
   "cell_type": "code",
   "execution_count": 44,
   "metadata": {},
   "outputs": [
    {
     "data": {
      "text/plain": [
       "Dates       Symb\n",
       "2019-01-02  A      -1\n",
       "            AAL    -1\n",
       "            AAP     1\n",
       "            AAPL    1\n",
       "            ABC     1\n",
       "                   ..\n",
       "2020-12-31  XOM    -1\n",
       "            XRAY   -1\n",
       "            YUM    -1\n",
       "            ZBH    -1\n",
       "            ZBRA    1\n",
       "Length: 206040, dtype: int64"
      ]
     },
     "execution_count": 44,
     "metadata": {},
     "output_type": "execute_result"
    }
   ],
   "source": [
    "position=Ypred*(1)\n",
    "position.loc[position==0]=position.loc[position==0]-1\n",
    "position"
   ]
  },
  {
   "cell_type": "code",
   "execution_count": 45,
   "metadata": {},
   "outputs": [
    {
     "data": {
      "text/plain": [
       "Dates\n",
       "2019-01-02   -0.014706\n",
       "2019-01-03    0.000000\n",
       "2019-01-04    0.004902\n",
       "2019-01-07    0.019608\n",
       "2019-01-08    0.000000\n",
       "                ...   \n",
       "2020-12-24   -0.053922\n",
       "2020-12-28   -0.039216\n",
       "2020-12-29   -0.029412\n",
       "2020-12-30   -0.009804\n",
       "2020-12-31   -0.019608\n",
       "Length: 505, dtype: float64"
      ]
     },
     "execution_count": 45,
     "metadata": {},
     "output_type": "execute_result"
    }
   ],
   "source": [
    "position.groupby(level=0).mean()"
   ]
  },
  {
   "cell_type": "code",
   "execution_count": 46,
   "metadata": {},
   "outputs": [
    {
     "data": {
      "text/plain": [
       "(3.3624723800735166, 26.590923419877782, 0.12645188461412865)"
      ]
     },
     "execution_count": 46,
     "metadata": {},
     "output_type": "execute_result"
    }
   ],
   "source": [
    "rtn_ml=(position*longdata[\"Return\"]).groupby(level=0).sum().loc[\"2019-01-01\":]\n",
    "rtn_mean_ml=rtn_ml.mean() * 252 \n",
    "rtn_std_ml = rtn_ml.std() * 252**0.5\n",
    "SR_ml = rtn_mean_ml / rtn_std_ml\n",
    "(rtn_mean_ml,rtn_std_ml,SR_ml)"
   ]
  },
  {
   "cell_type": "markdown",
   "metadata": {},
   "source": [
    "#### Model evaluation code with more ways of evaluation and some more models ###"
   ]
  },
  {
   "cell_type": "code",
   "execution_count": 47,
   "metadata": {},
   "outputs": [],
   "source": [
    "# dataframe where we track all cross-validation scoring metrics\n",
    "df_cv_scores = pd.DataFrame({'model':['dummy'], 'accuracy':[0], 'f1':[0], 'roc_auc':[0]}, \n",
    "                            columns=['accuracy','f1','roc_auc'], index=['model'])\n",
    "df_cv_scores_pca = df_cv_scores.copy()\n",
    "\n",
    "df_y_pred_probas = pd.DataFrame() \n",
    "df_y_preds = pd.DataFrame()"
   ]
  },
  {
   "cell_type": "code",
   "execution_count": 48,
   "metadata": {},
   "outputs": [],
   "source": [
    "\n",
    "# function adjusts class predictions based on the prediction threshold\n",
    "def adjust_proba(probs, threshold):\n",
    "    return [1 if proba >= threshold else 0 for proba in probs]"
   ]
  },
  {
   "cell_type": "code",
   "execution_count": 49,
   "metadata": {},
   "outputs": [],
   "source": [
    "# function for computing 5-fold cross-validation scoring scores\n",
    "def predict_evaluate_cv(model, X, y, df_cv_scores):\n",
    "    cv = StratifiedKFold(n_splits=3, random_state=9999,shuffle=True) \n",
    "    score_accuracy = cross_val_score(model, X, y, cv=cv, scoring='accuracy').mean()\n",
    "    score_f1 = cross_val_score(model, X, y, cv=cv, scoring='f1').mean()\n",
    "    score_auc = cross_val_score(model, X, y, cv=cv, scoring='roc_auc').mean()\n",
    "    df_cv_scores.loc[model.__class__.__name__] = [score_accuracy, score_f1, score_auc]\n",
    "    print('K-fold cross-validation results on validation set:')\n",
    "    print(\" average accuracy is {0:0.2%}\".format(score_accuracy))\n",
    "    print(\" average F1 is {0:0.2%}\".format(score_f1))\n",
    "    print(\" average roc_auc is {0:0.2%}\".format(score_auc))"
   ]
  },
  {
   "cell_type": "code",
   "execution_count": 50,
   "metadata": {},
   "outputs": [],
   "source": [
    "# function for computing the confusion matrix\n",
    "def predict_evaluate_cm(model, X, y, threshold=.5):\n",
    "    model_name = model.__class__.__name__\n",
    "    classes = ['Negative class', 'Positive class']\n",
    "    y_true = y\n",
    "    if model_name == 'SVC':\n",
    "        y_pred_proba = model.decision_function(X)\n",
    "    else:\n",
    "        y_pred_proba = model.predict_proba(X)[:, 1]\n",
    "    df_y_pred_probas[model_name] = y_pred_proba\n",
    "    y_pred = adjust_proba(y_pred_proba, threshold)\n",
    "    cm = confusion_matrix(y_true, y_pred)\n",
    "    cm = cm.astype('float')\n",
    "    np.set_printoptions(precision=2)\n",
    "    plt.figure(figsize=(5,5))\n",
    "    plt.imshow(cm, interpolation='nearest', cmap=plt.cm.Blues)\n",
    "    plt.title('Confusion matrix')\n",
    "    plt.colorbar()\n",
    "    tick_marks = np.arange(len(classes))\n",
    "    plt.xticks(tick_marks, classes, rotation=45)\n",
    "    plt.yticks(tick_marks, classes)\n",
    "\n",
    "    fmt = '.2f'\n",
    "    thresh = cm.max() / 2.\n",
    "    for i, j in itertools.product(range(cm.shape[0]), range(cm.shape[1])):\n",
    "        plt.text(j, i, format(cm[i, j], fmt),\n",
    "                 horizontalalignment=\"center\",\n",
    "                 color=\"gray\" if cm[i, j] > thresh else \"black\")\n",
    "\n",
    "    plt.tight_layout()\n",
    "    plt.ylabel('True label')\n",
    "    plt.xlabel('Predicted label')\n",
    "    plt.grid(False)\n",
    "    plt.rcParams[\"axes.edgecolor\"] = \"0.85\"\n",
    "    plt.show()"
   ]
  },
  {
   "cell_type": "code",
   "execution_count": 51,
   "metadata": {},
   "outputs": [],
   "source": [
    "# function for compution the roc plot\n",
    "def predict_evaluate_roc(model, X, y, threshold=.5):\n",
    "    y_pred = model.predict(X)\n",
    "    model_name = model.__class__.__name__\n",
    "    df_y_preds[model_name] = y_pred\n",
    "    if model_name == 'SVC':\n",
    "        y_pred_proba = model.decision_function(X)\n",
    "    else:\n",
    "        y_pred_proba = model.predict_proba(X)[:, 1]\n",
    "    [fpr, tpr, thr] = roc_curve(y, y_pred_proba)\n",
    "\n",
    "    idx = np.min(np.where(tpr > threshold))\n",
    "    plt.figure()\n",
    "    plt.plot(fpr, tpr, color='coral', label='ROC curve (area = %0.3f)' % auc(fpr, tpr))\n",
    "    plt.plot([0, 1], [0, 1], 'k--')\n",
    "    plt.plot([0,fpr[idx]], [tpr[idx],tpr[idx]], 'k--', color='blue')\n",
    "    plt.plot([fpr[idx],fpr[idx]], [0,tpr[idx]], 'k--', color='blue')\n",
    "    plt.xlim([0.0, 1.0])\n",
    "    plt.ylim([0.0, 1.05])\n",
    "    plt.xlabel('False Positive Rate (1 - specificity)', fontsize=14)\n",
    "    plt.ylabel('True Positive Rate (recall)', fontsize=14)\n",
    "    plt.title('Receiver operating characteristic (ROC) curve - {}'.format(model_name))\n",
    "    plt.legend(loc=\"lower right\")\n",
    "    plt.show()\n",
    "\n",
    "    print(\"Using a threshold of %.3f \" % thr[idx] + \"guarantees a sensitivity of %.3f \" % tpr[idx] +  \n",
    "          \"and a specificity of %.3f\" % (1-fpr[idx]) + \n",
    "          \", i.e. a false positive rate of %.2f%%.\" % (np.array(fpr[idx])*100))"
   ]
  },
  {
   "cell_type": "code",
   "execution_count": 68,
   "metadata": {},
   "outputs": [],
   "source": [
    "# global function for fitting, cross-validating and evaluating a given classifier\n",
    "def fit_predict_evaluate(model, Xtrain, ytrain, Xval, yval, df_cv_scores):\n",
    "    model.fit(Xtrain, ytrain)\n",
    "    \n",
    "    \n",
    "\n",
    "    \n",
    "    #predict_evaluate_cv(model, Xtrain, ytrain, df_cv_scores)\n",
    "    predict_evaluate_cm(model, Xval, yval)\n",
    "    predict_evaluate_roc(model, Xval, yval)\n",
    "    \n",
    "    print(model.__class__.__name__+\":\")\n",
    "    print('Accuracy score on training set is {0:0.2%}'.format(model.score(Xtrain, ytrain)))\n",
    "    #print('Accuracy score on test set is {0:0.2%}'.format(model.score(Xval, yval)))\n",
    "    \n",
    "    \n",
    "    \n",
    "    \n",
    "    \n",
    "    \n",
    "    threshold = 0.5    \n",
    "    Ypred_prob_train = model.predict_proba(Xtrain)\n",
    "    Ypred_train=pd.Series(Ypred_prob_train[:,0]<threshold)\n",
    "    Ypred_train.index=Ytrain.index\n",
    "    position=Ypred_train*(1)\n",
    "    position=position*(408-position.groupby(level=0).sum())/position.groupby(level=0).sum()\n",
    "    position.loc[position==0]=position.loc[position==0]-1\n",
    "    rtn_ml=(position*longdata[\"Return\"]).groupby(level=0).sum().loc[:\"2019-01-01\"]\n",
    "    rtn_mean_ml=rtn_ml.mean() * 252 \n",
    "    rtn_std_ml = rtn_ml.std() * 252**0.5\n",
    "    SR_ml = rtn_mean_ml / rtn_std_ml\n",
    "    print (\"Sharpe ratio(in sample) is : \" + str(SR_ml))\n",
    "    \n",
    "    \n",
    "\n",
    "    \n",
    "    Ypred_prob = model.predict_proba(Xval)\n",
    "    Ypred=pd.Series(Ypred_prob[:,0]<threshold)\n",
    "    Ypred.index=yval.index\n",
    "    position=Ypred*(1)\n",
    "    position=position*(408-position.groupby(level=0).sum())/position.groupby(level=0).sum()\n",
    "    position.loc[position==0]=position.loc[position==0]-1\n",
    "    #position.loc[position==0]=position.loc[position==0]-1\n",
    "    rtn_ml=(position*longdata[\"Return\"]).groupby(level=0).sum().loc[\"2019-01-01\":]\n",
    "    rtn_mean_ml=rtn_ml.mean() * 252 \n",
    "    rtn_std_ml = rtn_ml.std() * 252**0.5\n",
    "    SR_ml = rtn_mean_ml / rtn_std_ml\n",
    "    print (\"            \")\n",
    "    print (\"            \")\n",
    "    print (\"Sharpe ratio(out of sample) is : \" + str(SR_ml))\n",
    "    \n",
    "    \n",
    "    ActualNeg=sum(yval==0)\n",
    "    ActualPos=sum(yval==1)\n",
    "\n",
    "    TN=sum((yval==0)&(Ypred==False))\n",
    "    FP=sum((yval==0)&(Ypred==True))\n",
    "    TP=sum((yval==1)&(Ypred==True))\n",
    "    FN=sum((yval==1)&(Ypred==False))\n",
    "\n",
    "    d=pd.DataFrame(np.matrix([[TN,FP],[FN,TP]]))\n",
    "    print(\"confusion matrix for out of sample\")\n",
    "    print(d)\n",
    "    FPR = FP/(FP+TN)\n",
    "    TPR = TP/(TP+FN)\n",
    "    print(\"Accuracy:\", (TP+TN)/(TN+FP+TP+FN))\n",
    "\n",
    "    \n",
    "    \n",
    "    \n",
    "    return model"
   ]
  },
  {
   "cell_type": "code",
   "execution_count": 69,
   "metadata": {},
   "outputs": [],
   "source": [
    "from sklearn.tree import DecisionTreeClassifier\n",
    "\n",
    "dt_model = DecisionTreeClassifier(max_depth = 7,class_weight = \"balanced\")"
   ]
  },
  {
   "cell_type": "code",
   "execution_count": 70,
   "metadata": {},
   "outputs": [
    {
     "data": {
      "image/png": "[encoded data removed]",
      "text/plain": [
       "<Figure size 360x360 with 2 Axes>"
      ]
     },
     "metadata": {
      "needs_background": "light"
     },
     "output_type": "display_data"
    },
    {
     "data": {
      "image/png": "[encoded data removed]",
      "text/plain": [
       "<Figure size 432x288 with 1 Axes>"
      ]
     },
     "metadata": {
      "needs_background": "light"
     },
     "output_type": "display_data"
    },
    {
     "name": "stdout",
     "output_type": "stream",
     "text": [
      "Using a threshold of 0.506 guarantees a sensitivity of 0.566 and a specificity of 0.453, i.e. a false positive rate of 54.73%.\n",
      "DecisionTreeClassifier:\n",
      "Accuracy score on training set is 51.43%\n",
      "Sharpe ratio(in sample) is : 2.4544541359382883\n",
      "            \n",
      "            \n",
      "Sharpe ratio(out of sample) is : 1.1325814782278323\n",
      "confusion matrix for out of sample\n",
      "       0      1\n",
      "0  45843  57181\n",
      "1  43917  59099\n",
      "Accuracy: 0.5093282857697534\n"
     ]
    }
   ],
   "source": [
    "dt_model = fit_predict_evaluate(dt_model, Xtrain, Ytrain, Xtest, Ytest, df_cv_scores)"
   ]
  },
  {
   "cell_type": "code",
   "execution_count": 62,
   "metadata": {},
   "outputs": [
    {
     "data": {
      "text/plain": [
       "Dates       Symb\n",
       "2019-01-02  A       0\n",
       "            AAL     1\n",
       "            AAP     1\n",
       "            AAPL    1\n",
       "            ABC     1\n",
       "                   ..\n",
       "2020-12-31  XOM     0\n",
       "            XRAY    1\n",
       "            YUM     0\n",
       "            ZBH     1\n",
       "            ZBRA    0\n",
       "Name: Excess Return, Length: 206040, dtype: int64"
      ]
     },
     "execution_count": 62,
     "metadata": {},
     "output_type": "execute_result"
    }
   ],
   "source": [
    "Ytest"
   ]
  },
  {
   "cell_type": "code",
   "execution_count": 71,
   "metadata": {},
   "outputs": [],
   "source": [
    "xgb_model = XGBClassifier(learningrate =0.05, nestimators=100,\n",
    "                    maxdepth=4, minchildweight=4, subsample=0.8, colsamplebytree=0.8,\n",
    "                    objective= 'binary:logistic',\n",
    "                    nthread=3,\n",
    "                    scaleposweight=2,\n",
    "                    seed=27)\n"
   ]
  },
  {
   "cell_type": "code",
   "execution_count": 72,
   "metadata": {},
   "outputs": [
    {
     "name": "stdout",
     "output_type": "stream",
     "text": [
      "[00:45:29] WARNING: /workspace/src/learner.cc:480: \n",
      "Parameters: { colsamplebytree, learningrate, maxdepth, minchildweight, nestimators, scaleposweight } might not be used.\n",
      "\n",
      "  This may not be accurate due to some parameters are only used in language bindings but\n",
      "  passed down to XGBoost core.  Or some parameters are not used but slip through this\n",
      "  verification. Please open an issue if you find above cases.\n",
      "\n",
      "\n"
     ]
    },
    {
     "data": {
      "image/png": "[encoded data removed]",
      "text/plain": [
       "<Figure size 360x360 with 2 Axes>"
      ]
     },
     "metadata": {
      "needs_background": "light"
     },
     "output_type": "display_data"
    },
    {
     "data": {
      "image/png": "[encoded data removed]",
      "text/plain": [
       "<Figure size 432x288 with 1 Axes>"
      ]
     },
     "metadata": {
      "needs_background": "light"
     },
     "output_type": "display_data"
    },
    {
     "name": "stdout",
     "output_type": "stream",
     "text": [
      "Using a threshold of 0.507 guarantees a sensitivity of 0.500 and a specificity of 0.505, i.e. a false positive rate of 49.48%.\n",
      "XGBClassifier:\n",
      "Accuracy score on training set is 57.19%\n",
      "Sharpe ratio(in sample) is : 19.565862662085447\n",
      "            \n",
      "            \n",
      "Sharpe ratio(out of sample) is : 1.2557887482916936\n",
      "confusion matrix for out of sample\n",
      "       0      1\n",
      "0  43190  59834\n",
      "1  42602  60414\n",
      "Accuracy: 0.5028344010871676\n"
     ]
    }
   ],
   "source": [
    "xgb_model = fit_predict_evaluate(xgb_model, Xtrain, Ytrain, Xtest, Ytest, df_cv_scores)"
   ]
  },
  {
   "cell_type": "code",
   "execution_count": 58,
   "metadata": {},
   "outputs": [],
   "source": [
    "\n",
    "svm_model = SVC(gamma=0.1, C=0.01, kernel=\"linear\")"
   ]
  },
  {
   "cell_type": "code",
   "execution_count": null,
   "metadata": {},
   "outputs": [],
   "source": [
    "\n",
    "svm_model = fit_predict_evaluate(svm_model, Xtrain, Ytrain, Xtest, Ytest, df_cv_scores)"
   ]
  },
  {
   "cell_type": "markdown",
   "metadata": {},
   "source": [
    "## More experimentation of parameters with logistic regression ##"
   ]
  },
  {
   "cell_type": "code",
   "execution_count": 75,
   "metadata": {},
   "outputs": [],
   "source": [
    "\"\"\"\n",
    "log_reg = LogisticRegressionCV(\n",
    "        Cs=list(np.power(10.0, np.arange(-10, 10)))\n",
    "        ,penalty='l2'\n",
    "        ,scoring='roc_auc'\n",
    "        ,cv=5\n",
    "        ,random_state=777\n",
    "        ,max_iter=10000\n",
    "        ,fit_intercept=True\n",
    "        ,solver='newton-cg'\n",
    "        ,tol=10\n",
    "    )\n",
    "\"\"\"\n",
    "log_reg = LogisticRegression(max_iter=5000,class_weight=\"balanced\")"
   ]
  },
  {
   "cell_type": "code",
   "execution_count": 76,
   "metadata": {},
   "outputs": [
    {
     "data": {
      "image/png": "[encoded data removed]",
      "text/plain": [
       "<Figure size 360x360 with 2 Axes>"
      ]
     },
     "metadata": {
      "needs_background": "light"
     },
     "output_type": "display_data"
    },
    {
     "data": {
      "image/png": "[encoded data removed]",
      "text/plain": [
       "<Figure size 432x288 with 1 Axes>"
      ]
     },
     "metadata": {
      "needs_background": "light"
     },
     "output_type": "display_data"
    },
    {
     "name": "stdout",
     "output_type": "stream",
     "text": [
      "Using a threshold of 0.500 guarantees a sensitivity of 0.500 and a specificity of 0.513, i.e. a false positive rate of 48.74%.\n",
      "LogisticRegression:\n",
      "Accuracy score on training set is 50.89%\n",
      "Sharpe ratio(in sample) is : 0.7009903568548413\n",
      "            \n",
      "            \n",
      "Sharpe ratio(out of sample) is : 0.1108700444868889\n",
      "confusion matrix for out of sample\n",
      "       0      1\n",
      "0  52867  50157\n",
      "1  51558  51458\n",
      "Accuracy: 0.5063337216074548\n"
     ]
    }
   ],
   "source": [
    "log_reg = fit_predict_evaluate(log_reg, Xtrain, Ytrain, Xtest, Ytest, df_cv_scores)"
   ]
  },
  {
   "cell_type": "code",
   "execution_count": null,
   "metadata": {},
   "outputs": [],
   "source": []
  }
 ],
 "metadata": {
  "kernelspec": {
   "display_name": "Python 3",
   "language": "python",
   "name": "python3"
  },
  "language_info": {
   "codemirror_mode": {
    "name": "ipython",
    "version": 3
   },
   "file_extension": ".py",
   "mimetype": "text/x-python",
   "name": "python",
   "nbconvert_exporter": "python",
   "pygments_lexer": "ipython3",
   "version": "3.8.3"
  }
 },
 "nbformat": 4,
 "nbformat_minor": 4
}
